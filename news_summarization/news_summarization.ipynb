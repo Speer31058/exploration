{
 "cells": [
  {
   "cell_type": "markdown",
   "id": "through-license",
   "metadata": {},
   "source": [
    "# PROJECT 11 뉴스 요약봇 만들기"
   ]
  },
  {
   "cell_type": "markdown",
   "id": "minus-barbados",
   "metadata": {},
   "source": [
    "긴 문장을 짦게 요약해주는 요약기를 만들어보겠습니다."
   ]
  },
  {
   "cell_type": "markdown",
   "id": "complimentary-gallery",
   "metadata": {},
   "source": [
    "## 1 텍스트 요약(Text Summarization) 이란?"
   ]
  },
  {
   "cell_type": "markdown",
   "id": "emerging-thunder",
   "metadata": {},
   "source": [
    "> **텍스트 요약(Text Summarization)**  \n",
    "긴 길이의 문서원문을 핵심 주제만으로 구성된 짧은 요약문장들로 변환하는 것을 의미합니다.  \n",
    "\n",
    "<br/>\n",
    "텍스트 요약은 크게 추출적 요약(Extractive Smmarization)과 추상적 요약(Abstractive Summarizatio)의 두 가지 접근으로 나누어볼 수 있습니다.  "
   ]
  },
  {
   "cell_type": "markdown",
   "id": "recorded-comedy",
   "metadata": {},
   "source": [
    "### 1.1 추출적 요약(Extractive Summarization)"
   ]
  },
  {
   "cell_type": "markdown",
   "id": "parallel-impression",
   "metadata": {},
   "source": [
    "추출적 요약은 단어 그대로 원문에서 문장들을 추출해서 요약하는 방식입니다.  \n",
    "딥러닝보다는 주로 전통적인 머신러닝 방식에 속하는 텍스트랭크(TextRank) 와 같은 알고리즘을 사용해서 이 방법을 사용합니다.  \n",
    "\n",
    "*텍스트 랭크 : 유사도를 비교하여 문장과 단어에 가중치를 매겨 하나의 문서를 요약해주는 알고리즘이다.  \n",
    "&nbsp;&nbsp;&nbsp;&nbsp;&nbsp;&nbsp;&nbsp;&nbsp;&nbsp;&nbsp;&nbsp;&nbsp;&nbsp;&nbsp;&nbsp;&nbsp;&nbsp;&nbsp;&nbsp;&nbsp;하지만 요약을 한다기 보다는 빈도가 높은 단어와 문장들을 추출해내는 성격이 강하다.*"
   ]
  },
  {
   "cell_type": "markdown",
   "id": "mathematical-canberra",
   "metadata": {},
   "source": [
    "### 1.2 추상적 요약(Abstractive Summarization)"
   ]
  },
  {
   "cell_type": "markdown",
   "id": "alien-probability",
   "metadata": {},
   "source": [
    "원문으로부터 내용이 요약된 새로운 문장을 생성하는 방식입니다.  \n",
    "RNN, LSTM, GRU 으로 추상적 요약 방식을 구현할 수 있습니다.  "
   ]
  },
  {
   "cell_type": "markdown",
   "id": "verified-shark",
   "metadata": {},
   "source": [
    "## 2 인공 신경망으로부터 텍스트 요약  훈련시키기"
   ]
  },
  {
   "cell_type": "markdown",
   "id": "fantastic-damages",
   "metadata": {},
   "source": [
    "### 2.1 RNN(Recurrent Neural Network)\n",
    "RNN 은 시퀀스 모델입니다. 입력과 출력을 시퀀스 단위로 처리하는 모델입니다.  \n",
    "RNN 은 은닉층의 노드에서 활성화 함수를 통해 나온 결과값을 출력층 방향으로도 보내면서, 다시 은닉층 노드의 다음 계산의 입력으로 보내는 특징을 갖고있습니다.  \n",
    "RNN 은 비교적 짧은 시퀀스에 대해서만 효과를 보이는 단점이 있습니다.  \n",
    "그래서 시퀀스가 점점 길어질 수록 앞의 정보가 뒤로 충분히 전달되지 못하는 장기 의존성 문제(Long-Term Dependencies)가 발생합니다.  \n",
    "<br/>\n",
    "*시퀀스 : 연관된 연속의 데이터입니다.*  \n",
    "<br/>  \n",
    "\n",
    "![RNN](RNN.png)\n",
    "*이미지 출처 : http://journal.auric.kr/kiee/XmlViewer/f380862*"
   ]
  },
  {
   "cell_type": "markdown",
   "id": "super-engineering",
   "metadata": {},
   "source": [
    "### 2.2 LSTM(Long Short-Term Memory)\n",
    "RNN 의 장기 의존성 문제를 보완한 RNN 의 일종을 LSTM이라고 합니다.  \n",
    "LSTM 은 은닉층에 복잡한 계산을 추가하여 불필요한 기억을 지우고, 기억해야할 것들을 정합니다.  \n",
    "<br/>  \n",
    "\n",
    "![LSTM](LSTM.png)\n",
    "*이미지 출처 : http://journal.auric.kr/kiee/XmlViewer/f380862*"
   ]
  },
  {
   "cell_type": "markdown",
   "id": "environmental-witch",
   "metadata": {},
   "source": [
    "### 2.3 Seq2Seq(Sequence-to-Sequence)\n",
    "seq2seq 는 두 개의 RNN 아키텍처를 사용하여 입력 시퀀스로부터 출력 시퀀스를 생성해내는 자연어 생성 모델입니다.  \n",
    "seq2seq 는 크게 두 개로 구성된 아키텍처로 구성되는데, 바로 인코더와 디코더입니다.  \n",
    "인코더는 입력 문장의 모든 단어들을 순차적으로 입력받은 뒤에 마지막에 이 모든 단어 정보를 압축해서 하나의 벡터(컨텍스트 벡터)로 만듭니다.  \n",
    "디코더는 인코더에서 만든 벡터를 받아서 단어들을 한 개씩 순차적으로 출력합니다.\n",
    "\n",
    "정리하자면 seq2seq 모델은 인코더에서 입력 시퀀스를 컨텍스트 벡터라는 하나의 고정된 크기의 벡터 표현으로 압축하고,  \n",
    "디코더는 이 컨텍스트 벡터를 통해서 출력 시퀀스를 만들어 냅니다.  \n",
    "  \n",
    "![seq2seq](seq2seq.png)\n",
    "*이미지 출처 : https://wikidocs.net/24996*"
   ]
  },
  {
   "cell_type": "markdown",
   "id": "fabulous-spokesman",
   "metadata": {},
   "source": [
    "seq2seq 구조에서 디코더는 시작 토큰 sos가 입력되면, 각 시점마다 단어를 생성하고 이 과정을 종료 토큰 eos를 예측하는 순간까지 멈추지 않습니다.  \n",
    "다시 말해 훈련 데이터의 예측 상대 시퀀스의 앞, 뒤에는 시작 토큰과 종료 토큰을 넣어주는 전처리를 통해 어디서 멈춰야하는지 알려줘야합니다.  \n",
    "  \n",
    "![seq2seq02](seq2seq02.png)  \n",
    "*이미지 출처 : https://wikidocs.net/24996*"
   ]
  },
  {
   "cell_type": "markdown",
   "id": "compressed-knife",
   "metadata": {},
   "source": [
    "### 2.4 어텐션 메커니즘 (Attention Mechanism)\n",
    "seq2seq 모델은 크게 두 가지 문제점이 있습니다.  \n",
    "\n",
    "> 첫째, 하나의 고정된 크기의 벡터에 모든 정보를 압축하려고 하니 정보 손실이 발생합니다.  \n",
    "둘째, RNN의 고질적인 문제인 기울기 손실 문제가 존재합니다.  \n",
    "\n",
    "그래서 입력 문장이 길면 모델의 성능이 떨어지는 현상이 발생합니다.  \n",
    "이를 보완하기 위해 등장한 기법이 어텐션 메커니즘(Attention Mechanism) 입니다.  \n",
    "  \n",
    "![attention](attention.png)  \n",
    "*이미지 출처 : https://wikidocs.net/22893*"
   ]
  },
  {
   "cell_type": "markdown",
   "id": "revolutionary-career",
   "metadata": {},
   "source": [
    "어텐션 메커니즘의 기본 아이디어는 디코더에서 출력 단어를 예측하는 매 시점마다, 인코더에서의 전체 입력 문장을 다시 한 번 참고한다는 것입니다.  \n",
    "단, 전체 입력 문장을 전부 다 동일한 비율로 참고하는 것이 아니라, 해당 시점에서 예측해야할 단어와 연관이 있는 입력 단어 부분을 좀 더 집중해서 봅니다."
   ]
  },
  {
   "cell_type": "markdown",
   "id": "framed-still",
   "metadata": {},
   "source": [
    "<br/>  \n",
    "\n",
    "**```seq2seq 모델을 통해서 추상적 요약 방식의 텍스트 요약기를 만들어 보도록 하겠습니다.```**\n",
    "\n",
    "<br/>  "
   ]
  },
  {
   "cell_type": "markdown",
   "id": "banner-concert",
   "metadata": {},
   "source": [
    "## 3 데이터 준비하기"
   ]
  },
  {
   "cell_type": "markdown",
   "id": "light-somerset",
   "metadata": {},
   "source": [
    "### 3.1 데이터 다운로드하기"
   ]
  },
  {
   "cell_type": "markdown",
   "id": "fleet-doctrine",
   "metadata": {},
   "source": [
    "터미널에서 아래의 명령어를 입력하여 파일을 다운로드 받습니다.  \n",
    "\n",
    "`$ wget https://raw.githubusercontent.com/sunnysai12345/News_Summary/master/news_summary_more.csv`  "
   ]
  },
  {
   "cell_type": "markdown",
   "id": "subtle-heath",
   "metadata": {},
   "source": [
    "### 3.2 모듈과 패키지 불러오기"
   ]
  },
  {
   "cell_type": "markdown",
   "id": "oriented-mother",
   "metadata": {},
   "source": [
    "데이터 전처리를 위해 필요한 모듈과 패키지를 불러옵니다."
   ]
  },
  {
   "cell_type": "code",
   "execution_count": 2,
   "id": "relative-tennis",
   "metadata": {},
   "outputs": [
    {
     "name": "stderr",
     "output_type": "stream",
     "text": [
      "[nltk_data] Downloading package stopwords to /home/aiffel-\n",
      "[nltk_data]     dj41/nltk_data...\n",
      "[nltk_data]   Package stopwords is already up-to-date!\n"
     ]
    }
   ],
   "source": [
    "import nltk\n",
    "nltk.download('stopwords')    # nltk 패키지의 불용어 사전 : 요약하는데는 거의 의미가 없는 100여개의 불용어가 미리 정리 되어 있음.\n",
    "\n",
    "import numpy as np\n",
    "import pandas as pd\n",
    "import os\n",
    "import re\n",
    "import matplotlib.pyplot as plt\n",
    "from nltk.corpus import stopwords\n",
    "from bs4 import BeautifulSoup \n",
    "from tensorflow.keras.preprocessing.text import Tokenizer \n",
    "from tensorflow.keras.preprocessing.sequence import pad_sequences\n",
    "import urllib.request"
   ]
  },
  {
   "cell_type": "markdown",
   "id": "worst-opportunity",
   "metadata": {},
   "source": [
    "### 3.3 데이터 살펴보기"
   ]
  },
  {
   "cell_type": "markdown",
   "id": "constitutional-amendment",
   "metadata": {},
   "source": [
    "다운로드 받은 데이터는 총 98,401 개의 샘플을 갖고있습니다.  "
   ]
  },
  {
   "cell_type": "code",
   "execution_count": 3,
   "id": "czech-rehabilitation",
   "metadata": {},
   "outputs": [
    {
     "name": "stdout",
     "output_type": "stream",
     "text": [
      "전체 샘플수 : 98401\n"
     ]
    }
   ],
   "source": [
    "data_dir = os.getenv(\"HOME\")+\"/aiffel/exploration/news_summarization/data/news_summary_more.csv\"\n",
    "\n",
    "data = pd.read_csv(data_dir, encoding='iso-8859-1')\n",
    "print('전체 샘플수 :',(len(data)))"
   ]
  },
  {
   "cell_type": "code",
   "execution_count": 3,
   "id": "retired-credits",
   "metadata": {},
   "outputs": [
    {
     "data": {
      "text/html": [
       "<div>\n",
       "<style scoped>\n",
       "    .dataframe tbody tr th:only-of-type {\n",
       "        vertical-align: middle;\n",
       "    }\n",
       "\n",
       "    .dataframe tbody tr th {\n",
       "        vertical-align: top;\n",
       "    }\n",
       "\n",
       "    .dataframe thead th {\n",
       "        text-align: right;\n",
       "    }\n",
       "</style>\n",
       "<table border=\"1\" class=\"dataframe\">\n",
       "  <thead>\n",
       "    <tr style=\"text-align: right;\">\n",
       "      <th></th>\n",
       "      <th>headlines</th>\n",
       "      <th>text</th>\n",
       "    </tr>\n",
       "  </thead>\n",
       "  <tbody>\n",
       "    <tr>\n",
       "      <th>0</th>\n",
       "      <td>upGrad learner switches to career in ML &amp; Al w...</td>\n",
       "      <td>Saurav Kant, an alumnus of upGrad and IIIT-B's...</td>\n",
       "    </tr>\n",
       "    <tr>\n",
       "      <th>1</th>\n",
       "      <td>Delhi techie wins free food from Swiggy for on...</td>\n",
       "      <td>Kunal Shah's credit card bill payment platform...</td>\n",
       "    </tr>\n",
       "    <tr>\n",
       "      <th>2</th>\n",
       "      <td>New Zealand end Rohit Sharma-led India's 12-ma...</td>\n",
       "      <td>New Zealand defeated India by 8 wickets in the...</td>\n",
       "    </tr>\n",
       "    <tr>\n",
       "      <th>3</th>\n",
       "      <td>Aegon life iTerm insurance plan helps customer...</td>\n",
       "      <td>With Aegon Life iTerm Insurance plan, customer...</td>\n",
       "    </tr>\n",
       "    <tr>\n",
       "      <th>4</th>\n",
       "      <td>Have known Hirani for yrs, what if MeToo claim...</td>\n",
       "      <td>Speaking about the sexual harassment allegatio...</td>\n",
       "    </tr>\n",
       "  </tbody>\n",
       "</table>\n",
       "</div>"
      ],
      "text/plain": [
       "                                           headlines  \\\n",
       "0  upGrad learner switches to career in ML & Al w...   \n",
       "1  Delhi techie wins free food from Swiggy for on...   \n",
       "2  New Zealand end Rohit Sharma-led India's 12-ma...   \n",
       "3  Aegon life iTerm insurance plan helps customer...   \n",
       "4  Have known Hirani for yrs, what if MeToo claim...   \n",
       "\n",
       "                                                text  \n",
       "0  Saurav Kant, an alumnus of upGrad and IIIT-B's...  \n",
       "1  Kunal Shah's credit card bill payment platform...  \n",
       "2  New Zealand defeated India by 8 wickets in the...  \n",
       "3  With Aegon Life iTerm Insurance plan, customer...  \n",
       "4  Speaking about the sexual harassment allegatio...  "
      ]
     },
     "execution_count": 3,
     "metadata": {},
     "output_type": "execute_result"
    }
   ],
   "source": [
    "data.head()"
   ]
  },
  {
   "cell_type": "markdown",
   "id": "material-taiwan",
   "metadata": {},
   "source": [
    "데이터는 기사의 본문에 해당되는 text와 기사의 제목에 해당되는 headlines 두 가지 열로 구성되어 있습니다."
   ]
  },
  {
   "cell_type": "markdown",
   "id": "danish-clothing",
   "metadata": {},
   "source": [
    "## 4 데이터 전처리하기"
   ]
  },
  {
   "cell_type": "markdown",
   "id": "latest-playback",
   "metadata": {},
   "source": [
    "### 4.1 중복값 제거하기"
   ]
  },
  {
   "cell_type": "markdown",
   "id": "meaningful-chile",
   "metadata": {},
   "source": [
    "데이터의 중복 샘플 유무를 확인한 후, 중복 샘플을 제거하도록 하겠습니다."
   ]
  },
  {
   "cell_type": "code",
   "execution_count": 4,
   "id": "devoted-professor",
   "metadata": {},
   "outputs": [
    {
     "data": {
      "text/plain": [
       "headlines    98280\n",
       "text         98360\n",
       "dtype: int64"
      ]
     },
     "execution_count": 4,
     "metadata": {},
     "output_type": "execute_result"
    }
   ],
   "source": [
    "data.nunique()"
   ]
  },
  {
   "cell_type": "markdown",
   "id": "prepared-optimum",
   "metadata": {},
   "source": [
    "98,401 개의 전체 데이터에서 text 에는 98,360 개의 유니크한 데이터가 있고, headlines 에는 98,280개의 유니크한 데이터가 있습니다.  \n",
    "text 달라도 headlines 는 동일할 수 있으므로 text 의 중복 데이터만 제거하겠습니다."
   ]
  },
  {
   "cell_type": "code",
   "execution_count": 5,
   "id": "broken-characterization",
   "metadata": {},
   "outputs": [
    {
     "name": "stdout",
     "output_type": "stream",
     "text": [
      "전체 샘플수 : 98360\n"
     ]
    }
   ],
   "source": [
    "data.drop_duplicates(subset = ['text'], inplace = True)\n",
    "\n",
    "print('전체 샘플수 :',(len(data)))"
   ]
  },
  {
   "cell_type": "markdown",
   "id": "hundred-birthday",
   "metadata": {},
   "source": [
    "### 4.2 null값 제거하기"
   ]
  },
  {
   "cell_type": "markdown",
   "id": "minimal-concert",
   "metadata": {},
   "source": [
    "데이터에 null 값이 있는지 확인하고, null 값을 가진 데이터는 제거하도록 하겠습니다."
   ]
  },
  {
   "cell_type": "code",
   "execution_count": 6,
   "id": "aware-safety",
   "metadata": {},
   "outputs": [
    {
     "data": {
      "text/plain": [
       "headlines    0\n",
       "text         0\n",
       "dtype: int64"
      ]
     },
     "execution_count": 6,
     "metadata": {},
     "output_type": "execute_result"
    }
   ],
   "source": [
    "data.isnull().sum()"
   ]
  },
  {
   "cell_type": "markdown",
   "id": "varying-developer",
   "metadata": {},
   "source": [
    "데이터에 null 값이 존재하지 않습니다."
   ]
  },
  {
   "cell_type": "markdown",
   "id": "fallen-providence",
   "metadata": {},
   "source": [
    "### 4.3 텍스트 정규화 및 불용어 제거하기"
   ]
  },
  {
   "cell_type": "markdown",
   "id": "universal-belle",
   "metadata": {},
   "source": [
    "#### 4.3.1 텍스트 정규화"
   ]
  },
  {
   "cell_type": "markdown",
   "id": "looking-platinum",
   "metadata": {},
   "source": [
    "데이터 안에 들어있는 단어들 중에는 같은 의미인데도 다른 표현으로 쓰여 마치 다른 단어들처럼 간주되는 경우가 있습니다.  \n",
    "예를 들어 it'll 과 it will 은 같은데 다른 단어들처럼 간주될 수 있습니다.  \n",
    "그래서 기계를 학습시키기 전에 같은 표현으로 통일시켜주는 작업을 해야합니다. 이를 텍스트 정규화 라고 합니다.  "
   ]
  },
  {
   "cell_type": "markdown",
   "id": "objective-candidate",
   "metadata": {},
   "source": [
    "정규화 사전을 아래와 같이 구성합니다."
   ]
  },
  {
   "cell_type": "code",
   "execution_count": 7,
   "id": "difficult-auckland",
   "metadata": {},
   "outputs": [
    {
     "name": "stdout",
     "output_type": "stream",
     "text": [
      "정규화 사전의 수:  120\n"
     ]
    }
   ],
   "source": [
    "contractions = {\"ain't\": \"is not\", \"aren't\": \"are not\",\"can't\": \"cannot\", \"'cause\": \"because\", \"could've\": \"could have\", \"couldn't\": \"could not\",\n",
    "                           \"didn't\": \"did not\",  \"doesn't\": \"does not\", \"don't\": \"do not\", \"hadn't\": \"had not\", \"hasn't\": \"has not\", \"haven't\": \"have not\",\n",
    "                           \"he'd\": \"he would\",\"he'll\": \"he will\", \"he's\": \"he is\", \"how'd\": \"how did\", \"how'd'y\": \"how do you\", \"how'll\": \"how will\", \"how's\": \"how is\",\n",
    "                           \"I'd\": \"I would\", \"I'd've\": \"I would have\", \"I'll\": \"I will\", \"I'll've\": \"I will have\",\"I'm\": \"I am\", \"I've\": \"I have\", \"i'd\": \"i would\",\n",
    "                           \"i'd've\": \"i would have\", \"i'll\": \"i will\",  \"i'll've\": \"i will have\",\"i'm\": \"i am\", \"i've\": \"i have\", \"isn't\": \"is not\", \"it'd\": \"it would\",\n",
    "                           \"it'd've\": \"it would have\", \"it'll\": \"it will\", \"it'll've\": \"it will have\",\"it's\": \"it is\", \"let's\": \"let us\", \"ma'am\": \"madam\",\n",
    "                           \"mayn't\": \"may not\", \"might've\": \"might have\",\"mightn't\": \"might not\",\"mightn't've\": \"might not have\", \"must've\": \"must have\",\n",
    "                           \"mustn't\": \"must not\", \"mustn't've\": \"must not have\", \"needn't\": \"need not\", \"needn't've\": \"need not have\",\"o'clock\": \"of the clock\",\n",
    "                           \"oughtn't\": \"ought not\", \"oughtn't've\": \"ought not have\", \"shan't\": \"shall not\", \"sha'n't\": \"shall not\", \"shan't've\": \"shall not have\",\n",
    "                           \"she'd\": \"she would\", \"she'd've\": \"she would have\", \"she'll\": \"she will\", \"she'll've\": \"she will have\", \"she's\": \"she is\",\n",
    "                           \"should've\": \"should have\", \"shouldn't\": \"should not\", \"shouldn't've\": \"should not have\", \"so've\": \"so have\",\"so's\": \"so as\",\n",
    "                           \"this's\": \"this is\",\"that'd\": \"that would\", \"that'd've\": \"that would have\", \"that's\": \"that is\", \"there'd\": \"there would\",\n",
    "                           \"there'd've\": \"there would have\", \"there's\": \"there is\", \"here's\": \"here is\",\"they'd\": \"they would\", \"they'd've\": \"they would have\",\n",
    "                           \"they'll\": \"they will\", \"they'll've\": \"they will have\", \"they're\": \"they are\", \"they've\": \"they have\", \"to've\": \"to have\",\n",
    "                           \"wasn't\": \"was not\", \"we'd\": \"we would\", \"we'd've\": \"we would have\", \"we'll\": \"we will\", \"we'll've\": \"we will have\", \"we're\": \"we are\",\n",
    "                           \"we've\": \"we have\", \"weren't\": \"were not\", \"what'll\": \"what will\", \"what'll've\": \"what will have\", \"what're\": \"what are\",\n",
    "                           \"what's\": \"what is\", \"what've\": \"what have\", \"when's\": \"when is\", \"when've\": \"when have\", \"where'd\": \"where did\", \"where's\": \"where is\",\n",
    "                           \"where've\": \"where have\", \"who'll\": \"who will\", \"who'll've\": \"who will have\", \"who's\": \"who is\", \"who've\": \"who have\",\n",
    "                           \"why's\": \"why is\", \"why've\": \"why have\", \"will've\": \"will have\", \"won't\": \"will not\", \"won't've\": \"will not have\",\n",
    "                           \"would've\": \"would have\", \"wouldn't\": \"would not\", \"wouldn't've\": \"would not have\", \"y'all\": \"you all\",\n",
    "                           \"y'all'd\": \"you all would\",\"y'all'd've\": \"you all would have\",\"y'all're\": \"you all are\",\"y'all've\": \"you all have\",\n",
    "                           \"you'd\": \"you would\", \"you'd've\": \"you would have\", \"you'll\": \"you will\", \"you'll've\": \"you will have\",\n",
    "                           \"you're\": \"you are\", \"you've\": \"you have\"}\n",
    "\n",
    "print(\"정규화 사전의 수: \",len(contractions))"
   ]
  },
  {
   "cell_type": "markdown",
   "id": "practical-afternoon",
   "metadata": {},
   "source": [
    "#### 4.3.2 불용어"
   ]
  },
  {
   "cell_type": "markdown",
   "id": "prerequisite-present",
   "metadata": {},
   "source": [
    "데이터에는 자주 등장하지만 자연어 처리를 할때 실질적으로 별로 도움이 되지 않는 단어들이 존재합니다.  \n",
    "이를 불용어 라고 부릅니다. 이러한 불용어는 성능을 저하시킬 수 있으므로 제거를 하는게 좋습니다.  "
   ]
  },
  {
   "cell_type": "markdown",
   "id": "equivalent-handy",
   "metadata": {},
   "source": [
    "NLTK 에서 제공하는 불용어 리스트를 참조하여 불용어를 제거할 것입니다."
   ]
  },
  {
   "cell_type": "code",
   "execution_count": 8,
   "id": "prepared-survival",
   "metadata": {},
   "outputs": [
    {
     "name": "stdout",
     "output_type": "stream",
     "text": [
      "불용어 개수 : 179\n",
      "['i', 'me', 'my', 'myself', 'we', 'our', 'ours', 'ourselves', 'you', \"you're\", \"you've\", \"you'll\", \"you'd\", 'your', 'yours', 'yourself', 'yourselves', 'he', 'him', 'his', 'himself', 'she', \"she's\", 'her', 'hers', 'herself', 'it', \"it's\", 'its', 'itself', 'they', 'them', 'their', 'theirs', 'themselves', 'what', 'which', 'who', 'whom', 'this', 'that', \"that'll\", 'these', 'those', 'am', 'is', 'are', 'was', 'were', 'be', 'been', 'being', 'have', 'has', 'had', 'having', 'do', 'does', 'did', 'doing', 'a', 'an', 'the', 'and', 'but', 'if', 'or', 'because', 'as', 'until', 'while', 'of', 'at', 'by', 'for', 'with', 'about', 'against', 'between', 'into', 'through', 'during', 'before', 'after', 'above', 'below', 'to', 'from', 'up', 'down', 'in', 'out', 'on', 'off', 'over', 'under', 'again', 'further', 'then', 'once', 'here', 'there', 'when', 'where', 'why', 'how', 'all', 'any', 'both', 'each', 'few', 'more', 'most', 'other', 'some', 'such', 'no', 'nor', 'not', 'only', 'own', 'same', 'so', 'than', 'too', 'very', 's', 't', 'can', 'will', 'just', 'don', \"don't\", 'should', \"should've\", 'now', 'd', 'll', 'm', 'o', 're', 've', 'y', 'ain', 'aren', \"aren't\", 'couldn', \"couldn't\", 'didn', \"didn't\", 'doesn', \"doesn't\", 'hadn', \"hadn't\", 'hasn', \"hasn't\", 'haven', \"haven't\", 'isn', \"isn't\", 'ma', 'mightn', \"mightn't\", 'mustn', \"mustn't\", 'needn', \"needn't\", 'shan', \"shan't\", 'shouldn', \"shouldn't\", 'wasn', \"wasn't\", 'weren', \"weren't\", 'won', \"won't\", 'wouldn', \"wouldn't\"]\n"
     ]
    }
   ],
   "source": [
    "print('불용어 개수 :', len(stopwords.words('english')))\n",
    "print(stopwords.words('english'))"
   ]
  },
  {
   "cell_type": "markdown",
   "id": "established-crash",
   "metadata": {},
   "source": [
    "#### 4.3.3 전처리 함수"
   ]
  },
  {
   "cell_type": "markdown",
   "id": "conceptual-stations",
   "metadata": {},
   "source": [
    "데이터를 정규화하고, 불용어를 제거하는 작업을 함수로 만들어서 전처리하도록 하겠습니다."
   ]
  },
  {
   "cell_type": "code",
   "execution_count": 9,
   "id": "labeled-tablet",
   "metadata": {},
   "outputs": [
    {
     "name": "stdout",
     "output_type": "stream",
     "text": [
      "everything bought great infact ordered twice third ordered wasfor mother father\n",
      "everything bought was great infact ordered twice and the third ordered wasfor my mother and father\n"
     ]
    }
   ],
   "source": [
    "#데이터 전처리 함수\n",
    "def preprocess_sentence(sentence, remove_stopwords=True):\n",
    "    sentence = sentence.lower() # 텍스트 소문자화\n",
    "    sentence = BeautifulSoup(sentence, \"lxml\").text # <br />, <a href = ...> 등의 html 태그 제거\n",
    "    sentence = re.sub(r'\\([^)]*\\)', '', sentence) # 괄호로 닫힌 문자열 (...) 제거 Ex) my husband (and myself!) for => my husband for\n",
    "    sentence = re.sub('\"','', sentence) # 쌍따옴표 \" 제거\n",
    "    sentence = ' '.join([contractions[t] if t in contractions else t for t in sentence.split(\" \")]) # 약어 정규화\n",
    "    sentence = re.sub(r\"'s\\b\",\"\",sentence) # 소유격 제거. Ex) roland's -> roland\n",
    "    sentence = re.sub(\"[^a-zA-Z]\", \" \", sentence) # 영어 외 문자(숫자, 특수문자 등) 공백으로 변환\n",
    "    sentence = re.sub('[m]{2,}', 'mm', sentence) # m이 3개 이상이면 2개로 변경. Ex) ummmmmmm yeah -> umm yeah\n",
    "    \n",
    "    # 불용어 제거 (Text)\n",
    "    if remove_stopwords:\n",
    "        tokens = ' '.join(word for word in sentence.split() if not word in stopwords.words('english') if len(word) > 1)\n",
    "    # 불용어 미제거 (Summary)\n",
    "    else:\n",
    "        tokens = ' '.join(word for word in sentence.split() if len(word) > 1)\n",
    "    return tokens\n",
    "\n",
    "temp_text = 'Everything I bought was great, infact I ordered twice and the third ordered was<br />for my mother and father.'\n",
    "temp_summary = 'Great way to start (or finish) the day!!!'\n",
    "\n",
    "print(preprocess_sentence(temp_text))\n",
    "print(preprocess_sentence(temp_text, False))  # 불용어를 제거하지 않습니다."
   ]
  },
  {
   "cell_type": "markdown",
   "id": "exotic-bible",
   "metadata": {},
   "source": [
    "위 출력 결과를 통해 temp_text 의 문자열이 전처리 된것을 확인할 수 있습니다.  \n",
    "text 는 불용어를 제거하고, summary 는 불용어를 제거하지 않는다는 것에 주의하시길 바랍니다."
   ]
  },
  {
   "cell_type": "markdown",
   "id": "warming-alexandria",
   "metadata": {},
   "source": [
    "전처리 함수가 잘 작동하는 것을 확인했으니, 훈련 데이터 전체에 대해서 전처리를 수행하겠습니다."
   ]
  },
  {
   "cell_type": "code",
   "execution_count": 10,
   "id": "saving-peninsula",
   "metadata": {},
   "outputs": [],
   "source": [
    "clean_text = []\n",
    "\n",
    "# 전체 Text 데이터에 대한 전처리 : 10분 이상 시간이 걸릴 수 있습니다. \n",
    "for s in data['text']:\n",
    "    clean_text.append(preprocess_sentence(s))\n",
    "    "
   ]
  },
  {
   "cell_type": "code",
   "execution_count": 11,
   "id": "compliant-family",
   "metadata": {},
   "outputs": [
    {
     "name": "stdout",
     "output_type": "stream",
     "text": [
      "==================================================== 전처리 전 ====================================================\n",
      "Saurav Kant, an alumnus of upGrad and IIIT-B's PG Program in Machine learning and Artificial Intelligence, was a Sr Systems Engineer at Infosys with almost 5 years of work experience. The program and upGrad's 360-degree career support helped him transition to a Data Scientist at Tech Mahindra with 90% salary hike. upGrad's Online Power Learning has powered 3 lakh+ careers.\n",
      "\n",
      "==================================================== 전처리 후 ====================================================\n",
      "saurav kant alumnus upgrad iiit pg program machine learning artificial intelligence sr systems engineer infosys almost years work experience program upgrad degree career support helped transition data scientist tech mahindra salary hike upgrad online power learning powered lakh careers\n"
     ]
    }
   ],
   "source": [
    "# 전처리 후 출력\n",
    "print('='*52 ,'전처리 전', '='*52)\n",
    "print(data.loc[0, 'text'])\n",
    "print()\n",
    "print('='*52 ,'전처리 후', '='*52)\n",
    "print(clean_text[0])"
   ]
  },
  {
   "cell_type": "code",
   "execution_count": 12,
   "id": "pharmaceutical-hotel",
   "metadata": {},
   "outputs": [],
   "source": [
    "clean_summary = []\n",
    "\n",
    "# 전체 Summary 데이터에 대한 전처리 : 5분 이상 시간이 걸릴 수 있습니다. \n",
    "for s in data['headlines']:\n",
    "    clean_summary.append(preprocess_sentence(s, False))"
   ]
  },
  {
   "cell_type": "code",
   "execution_count": 13,
   "id": "chronic-survival",
   "metadata": {},
   "outputs": [
    {
     "name": "stdout",
     "output_type": "stream",
     "text": [
      "============================ 전처리 전 ============================\n",
      "upGrad learner switches to career in ML & Al with 90% salary hike\n",
      "\n",
      "============================ 전처리 후 ============================\n",
      "upgrad learner switches to career in ml al with salary hike\n"
     ]
    }
   ],
   "source": [
    "# 전처리 후 출력\n",
    "print('='*28 ,'전처리 전', '='*28)\n",
    "print(data.loc[0, 'headlines'])\n",
    "print()\n",
    "print('='*28 ,'전처리 후', '='*28)\n",
    "print(clean_summary[0])"
   ]
  },
  {
   "cell_type": "markdown",
   "id": "federal-coverage",
   "metadata": {},
   "source": [
    "전처리 과정을 거친 후에 다시 한번 빈 값(\" \") 이 있는지 확인하는 것이 좋습니다.  \n",
    "전처리 전에는 데이터가 존재했지만, 전처리 과정에서 문장의 모든 단어가 사라지는 경우가 있을 수 있기때문입니다."
   ]
  },
  {
   "cell_type": "code",
   "execution_count": 14,
   "id": "fitted-utilization",
   "metadata": {},
   "outputs": [],
   "source": [
    "data['text'] = clean_text\n",
    "data['headlines'] = clean_summary\n",
    "\n",
    "# 빈 값을 Null 값으로 변환\n",
    "data.replace('', np.nan, inplace=True)"
   ]
  },
  {
   "cell_type": "code",
   "execution_count": 15,
   "id": "equipped-samuel",
   "metadata": {},
   "outputs": [
    {
     "data": {
      "text/plain": [
       "headlines    0\n",
       "text         0\n",
       "dtype: int64"
      ]
     },
     "execution_count": 15,
     "metadata": {},
     "output_type": "execute_result"
    }
   ],
   "source": [
    "data.isnull().sum()"
   ]
  },
  {
   "cell_type": "code",
   "execution_count": 16,
   "id": "stunning-horizontal",
   "metadata": {},
   "outputs": [
    {
     "name": "stdout",
     "output_type": "stream",
     "text": [
      "전체 샘플수 : 98360\n"
     ]
    }
   ],
   "source": [
    "data.dropna(axis=0, inplace=True)\n",
    "\n",
    "print('전체 샘플수 :',(len(data)))#데이터 전처리 함수"
   ]
  },
  {
   "cell_type": "markdown",
   "id": "indirect-antibody",
   "metadata": {},
   "source": [
    "### 4.4 샘플의 최대 길이 정하기"
   ]
  },
  {
   "cell_type": "markdown",
   "id": "nervous-childhood",
   "metadata": {},
   "source": [
    "Text와 Summary의 최소, 최대, 평균 길이를 구하고, 길이 분포를 시각화해서 보도록 하겠습니다."
   ]
  },
  {
   "cell_type": "code",
   "execution_count": 17,
   "id": "molecular-capitol",
   "metadata": {},
   "outputs": [
    {
     "name": "stdout",
     "output_type": "stream",
     "text": [
      "텍스트의 최소 길이 : 1\n",
      "텍스트의 최대 길이 : 60\n",
      "텍스트의 평균 길이 : 35.09968483123221\n",
      "요약의 최소 길이 : 1\n",
      "요약의 최대 길이 : 16\n",
      "요약의 평균 길이 : 9.299532330215534\n"
     ]
    },
    {
     "data": {
      "image/png": "[encoded data removed]",
      "text/plain": [
       "<Figure size 432x288 with 2 Axes>"
      ]
     },
     "metadata": {
      "needs_background": "light"
     },
     "output_type": "display_data"
    },
    {
     "data": {
      "image/png": "[encoded data removed]",
      "text/plain": [
       "<Figure size 432x288 with 1 Axes>"
      ]
     },
     "metadata": {
      "needs_background": "light"
     },
     "output_type": "display_data"
    },
    {
     "data": {
      "image/png": "[encoded data removed]",
      "text/plain": [
       "<Figure size 432x288 with 1 Axes>"
      ]
     },
     "metadata": {
      "needs_background": "light"
     },
     "output_type": "display_data"
    }
   ],
   "source": [
    "# 길이 분포 출력\n",
    "import matplotlib.pyplot as plt\n",
    "\n",
    "text_len = [len(s.split()) for s in data['text']]\n",
    "summary_len = [len(s.split()) for s in data['headlines']]\n",
    "\n",
    "print('텍스트의 최소 길이 : {}'.format(np.min(text_len)))\n",
    "print('텍스트의 최대 길이 : {}'.format(np.max(text_len)))\n",
    "print('텍스트의 평균 길이 : {}'.format(np.mean(text_len)))\n",
    "print('요약의 최소 길이 : {}'.format(np.min(summary_len)))\n",
    "print('요약의 최대 길이 : {}'.format(np.max(summary_len)))\n",
    "print('요약의 평균 길이 : {}'.format(np.mean(summary_len)))\n",
    "\n",
    "plt.subplot(1,2,1)\n",
    "plt.boxplot(summary_len)\n",
    "plt.title('headlines')\n",
    "plt.subplot(1,2,2)\n",
    "plt.boxplot(text_len)\n",
    "plt.title('text')\n",
    "plt.tight_layout()\n",
    "plt.show()\n",
    "\n",
    "plt.title('headlines')\n",
    "plt.hist(summary_len, bins = 40)\n",
    "plt.xlabel('length of samples')\n",
    "plt.ylabel('number of samples')\n",
    "plt.show()\n",
    "\n",
    "plt.title('text')\n",
    "plt.hist(text_len, bins = 40)\n",
    "plt.xlabel('length of samples')\n",
    "plt.ylabel('number of samples')\n",
    "plt.show()"
   ]
  },
  {
   "cell_type": "markdown",
   "id": "immune-lebanon",
   "metadata": {},
   "source": [
    "text의 경우 최소 길이가 1, 최대 길이가 60, 평균 길이는 35 입니다.  \n",
    "시각화 된 그래프로 봤을 때는 대체적으로 50 내외의 길이를 가진다는 것을 확인할 수 있습니다.  "
   ]
  },
  {
   "cell_type": "markdown",
   "id": "handled-escape",
   "metadata": {},
   "source": [
    "headlines의 경우 최소 길이가 1, 최대 길이가 16, 그리고 평균 길이가 9 입니다.  \n",
    "그래프로 봤을때, 대체적으로 14 이하의 길이를 가지고 있습니다.  "
   ]
  },
  {
   "cell_type": "markdown",
   "id": "increasing-wagon",
   "metadata": {},
   "source": [
    "각 컬럼의 최소 길이와 최대 길이의 차이가 크지 않습니다. 그래서 text의 최대 길이는 50으로, headlines의 최대 길이는 14로 설정하겠습니다.  \n",
    "\n",
    "`below_threshold_len` 함수에 훈련 데이터와 샘플의 길이를 입력하면, 우리가 결정한 임의의 길이가 몇%의 샘플까지 포함하는지 확인할 수 있습니다."
   ]
  },
  {
   "cell_type": "code",
   "execution_count": 18,
   "id": "pointed-spell",
   "metadata": {},
   "outputs": [
    {
     "name": "stdout",
     "output_type": "stream",
     "text": [
      "전체 샘플 중 길이가 50 이하인 샘플의 비율: 0.9998576657177715\n",
      "전체 샘플 중 길이가 14 이하인 샘플의 비율: 0.9997763318422123\n"
     ]
    }
   ],
   "source": [
    "def below_threshold_len(max_len, nested_list):\n",
    "  cnt = 0\n",
    "  for s in nested_list:\n",
    "    if(len(s.split()) <= max_len):\n",
    "        cnt = cnt + 1\n",
    "  print('전체 샘플 중 길이가 %s 이하인 샘플의 비율: %s'%(max_len, (cnt / len(nested_list))))\n",
    "\n",
    "text_max_len = 50\n",
    "headlines_max_len = 14\n",
    "\n",
    "below_threshold_len(text_max_len, data['text'])\n",
    "below_threshold_len(headlines_max_len,  data['headlines'])"
   ]
  },
  {
   "cell_type": "markdown",
   "id": "likely-tribute",
   "metadata": {},
   "source": [
    "문장 길이를 각각 50과 14로 패딩하게 되면, 데이터의 샘플들을 전부다 사용하게 됩니다."
   ]
  },
  {
   "cell_type": "code",
   "execution_count": 19,
   "id": "dried-croatia",
   "metadata": {},
   "outputs": [
    {
     "name": "stdout",
     "output_type": "stream",
     "text": [
      "전체 샘플수 : 98324\n"
     ]
    }
   ],
   "source": [
    "data = data[data['text'].apply(lambda x: len(x.split()) <= text_max_len)]\n",
    "data = data[data['headlines'].apply(lambda x: len(x.split()) <= headlines_max_len)]\n",
    "\n",
    "print('전체 샘플수 :',(len(data)))"
   ]
  },
  {
   "cell_type": "markdown",
   "id": "colonial-bloom",
   "metadata": {},
   "source": [
    "최종적으로 **98,401** 개의 데이터가 전처리 과정을 통해서 **98,324** 개의 데이터가 되었습니다."
   ]
  },
  {
   "cell_type": "markdown",
   "id": "fantastic-calgary",
   "metadata": {},
   "source": [
    "### 4.5 시작 토큰과 종료 토큰 추가하기"
   ]
  },
  {
   "cell_type": "markdown",
   "id": "vocational-transmission",
   "metadata": {},
   "source": [
    "seq2seq 모델의 디코더는 시작 토큰을 입력받아 문장을 생성하기 시작하고, 종료 토큰을 예측한 순간 문장 생성을 멈춥니다.  \n",
    "그래서 seq2seq 훈련을 위해서 디코더의 입력과 레이블에 시작 토큰과 종료 토큰을 추가해야 합니다."
   ]
  },
  {
   "cell_type": "markdown",
   "id": "rubber-martin",
   "metadata": {},
   "source": [
    "시작 토큰은 'sostoken', 종료 토큰은 'eostoken' 이라고 임의로 정하고, 앞뒤로 추가하도록 하겠습니다."
   ]
  },
  {
   "cell_type": "code",
   "execution_count": 20,
   "id": "yellow-values",
   "metadata": {},
   "outputs": [
    {
     "data": {
      "text/html": [
       "<div>\n",
       "<style scoped>\n",
       "    .dataframe tbody tr th:only-of-type {\n",
       "        vertical-align: middle;\n",
       "    }\n",
       "\n",
       "    .dataframe tbody tr th {\n",
       "        vertical-align: top;\n",
       "    }\n",
       "\n",
       "    .dataframe thead th {\n",
       "        text-align: right;\n",
       "    }\n",
       "</style>\n",
       "<table border=\"1\" class=\"dataframe\">\n",
       "  <thead>\n",
       "    <tr style=\"text-align: right;\">\n",
       "      <th></th>\n",
       "      <th>headlines</th>\n",
       "      <th>text</th>\n",
       "      <th>decoder_input</th>\n",
       "      <th>decoder_target</th>\n",
       "    </tr>\n",
       "  </thead>\n",
       "  <tbody>\n",
       "    <tr>\n",
       "      <th>0</th>\n",
       "      <td>upgrad learner switches to career in ml al wit...</td>\n",
       "      <td>saurav kant alumnus upgrad iiit pg program mac...</td>\n",
       "      <td>sostoken upgrad learner switches to career in ...</td>\n",
       "      <td>upgrad learner switches to career in ml al wit...</td>\n",
       "    </tr>\n",
       "    <tr>\n",
       "      <th>1</th>\n",
       "      <td>delhi techie wins free food from swiggy for on...</td>\n",
       "      <td>kunal shah credit card bill payment platform c...</td>\n",
       "      <td>sostoken delhi techie wins free food from swig...</td>\n",
       "      <td>delhi techie wins free food from swiggy for on...</td>\n",
       "    </tr>\n",
       "    <tr>\n",
       "      <th>2</th>\n",
       "      <td>new zealand end rohit sharma led india match w...</td>\n",
       "      <td>new zealand defeated india wickets fourth odi ...</td>\n",
       "      <td>sostoken new zealand end rohit sharma led indi...</td>\n",
       "      <td>new zealand end rohit sharma led india match w...</td>\n",
       "    </tr>\n",
       "    <tr>\n",
       "      <th>3</th>\n",
       "      <td>aegon life iterm insurance plan helps customer...</td>\n",
       "      <td>aegon life iterm insurance plan customers enjo...</td>\n",
       "      <td>sostoken aegon life iterm insurance plan helps...</td>\n",
       "      <td>aegon life iterm insurance plan helps customer...</td>\n",
       "    </tr>\n",
       "    <tr>\n",
       "      <th>4</th>\n",
       "      <td>have known hirani for yrs what if metoo claims...</td>\n",
       "      <td>speaking sexual harassment allegations rajkuma...</td>\n",
       "      <td>sostoken have known hirani for yrs what if met...</td>\n",
       "      <td>have known hirani for yrs what if metoo claims...</td>\n",
       "    </tr>\n",
       "  </tbody>\n",
       "</table>\n",
       "</div>"
      ],
      "text/plain": [
       "                                           headlines  \\\n",
       "0  upgrad learner switches to career in ml al wit...   \n",
       "1  delhi techie wins free food from swiggy for on...   \n",
       "2  new zealand end rohit sharma led india match w...   \n",
       "3  aegon life iterm insurance plan helps customer...   \n",
       "4  have known hirani for yrs what if metoo claims...   \n",
       "\n",
       "                                                text  \\\n",
       "0  saurav kant alumnus upgrad iiit pg program mac...   \n",
       "1  kunal shah credit card bill payment platform c...   \n",
       "2  new zealand defeated india wickets fourth odi ...   \n",
       "3  aegon life iterm insurance plan customers enjo...   \n",
       "4  speaking sexual harassment allegations rajkuma...   \n",
       "\n",
       "                                       decoder_input  \\\n",
       "0  sostoken upgrad learner switches to career in ...   \n",
       "1  sostoken delhi techie wins free food from swig...   \n",
       "2  sostoken new zealand end rohit sharma led indi...   \n",
       "3  sostoken aegon life iterm insurance plan helps...   \n",
       "4  sostoken have known hirani for yrs what if met...   \n",
       "\n",
       "                                      decoder_target  \n",
       "0  upgrad learner switches to career in ml al wit...  \n",
       "1  delhi techie wins free food from swiggy for on...  \n",
       "2  new zealand end rohit sharma led india match w...  \n",
       "3  aegon life iterm insurance plan helps customer...  \n",
       "4  have known hirani for yrs what if metoo claims...  "
      ]
     },
     "execution_count": 20,
     "metadata": {},
     "output_type": "execute_result"
    }
   ],
   "source": [
    "#요약 데이터에는 시작 토큰과 종료 토큰을 추가한다.\n",
    "data['decoder_input'] = data['headlines'].apply(lambda x : 'sostoken '+ x)\n",
    "data['decoder_target'] = data['headlines'].apply(lambda x : x + ' eostoken')\n",
    "\n",
    "data.head()"
   ]
  },
  {
   "cell_type": "code",
   "execution_count": 21,
   "id": "administrative-beverage",
   "metadata": {},
   "outputs": [],
   "source": [
    "# 인코더의 입력, 디코더의 입력, 레이블을 각각 numpy 타입으로 저장\n",
    "\n",
    "encoder_input = np.array(data['text']) # 인코더의 입력\n",
    "decoder_input = np.array(data['decoder_input']) # 디코더의 입력\n",
    "decoder_target = np.array(data['decoder_target']) # 디코더의 레이블"
   ]
  },
  {
   "cell_type": "markdown",
   "id": "advance-bailey",
   "metadata": {},
   "source": [
    "### 4.6 훈련 데이터와 테스트 데이터 나누기"
   ]
  },
  {
   "cell_type": "markdown",
   "id": "russian-values",
   "metadata": {},
   "source": [
    "훈련 데이터와 테스트 데이터는 직접 코딩을 통해서 분리하도록 하겠습니다."
   ]
  },
  {
   "cell_type": "code",
   "execution_count": 22,
   "id": "developed-template",
   "metadata": {},
   "outputs": [
    {
     "name": "stdout",
     "output_type": "stream",
     "text": [
      "[37895 23875 50404 ... 32792 36593 65926]\n"
     ]
    }
   ],
   "source": [
    "# 데이터의 샘플 순서를 섞습니다.\n",
    "indices = np.arange(encoder_input.shape[0])\n",
    "np.random.shuffle(indices)\n",
    "\n",
    "encoder_input = encoder_input[indices]\n",
    "decoder_input = decoder_input[indices]\n",
    "decoder_target = decoder_target[indices]\n",
    "\n",
    "print(indices)"
   ]
  },
  {
   "cell_type": "code",
   "execution_count": 23,
   "id": "incomplete-print",
   "metadata": {},
   "outputs": [
    {
     "name": "stdout",
     "output_type": "stream",
     "text": [
      "훈련 데이터의 개수 : 78660\n",
      "훈련 레이블의 개수 : 78660\n",
      "테스트 데이터의 개수 : 19664\n",
      "테스트 레이블의 개수 : 19664\n"
     ]
    }
   ],
   "source": [
    "# 섞인 데이터를 8:2의 비율로 훈련 데이터와 테스트 데이터로 분리합니다.\n",
    "n_of_val = int(len(encoder_input)*0.2)\n",
    "\n",
    "encoder_input_train = encoder_input[:-n_of_val]\n",
    "decoder_input_train = decoder_input[:-n_of_val]\n",
    "decoder_target_train = decoder_target[:-n_of_val]\n",
    "\n",
    "encoder_input_test = encoder_input[-n_of_val:]\n",
    "decoder_input_test = decoder_input[-n_of_val:]\n",
    "decoder_target_test = decoder_target[-n_of_val:]\n",
    "\n",
    "print('훈련 데이터의 개수 :', len(encoder_input_train))\n",
    "print('훈련 레이블의 개수 :',len(decoder_input_train))\n",
    "print('테스트 데이터의 개수 :',len(encoder_input_test))\n",
    "print('테스트 레이블의 개수 :',len(decoder_input_test))"
   ]
  },
  {
   "cell_type": "markdown",
   "id": "administrative-worse",
   "metadata": {},
   "source": [
    "### 4.7 단어 집합 만들기"
   ]
  },
  {
   "cell_type": "markdown",
   "id": "several-incident",
   "metadata": {},
   "source": [
    "기계가 텍스트를 숫자로 처리할 수 있도록 훈련 데이터와 테스트 데이터의 모든 단어들을 모두 정수로 바꿔줍니다.  \n",
    "이를 위해서 각 단어에 고유한 정수를 맵핑하는 작업이 필요합니다. 이 과정을 단어 집합을 만든다고 표현합니다."
   ]
  },
  {
   "cell_type": "markdown",
   "id": "useful-benjamin",
   "metadata": {},
   "source": [
    "Keras의 Tokenizer()를 사용하면, 입력된 훈련 데이터로부터 단어 집합을 만들 수 있습니다."
   ]
  },
  {
   "cell_type": "code",
   "execution_count": 24,
   "id": "reflected-spending",
   "metadata": {},
   "outputs": [],
   "source": [
    "src_tokenizer = Tokenizer() # 토크나이저 정의\n",
    "src_tokenizer.fit_on_texts(encoder_input_train) # 입력된 데이터로부터 단어 집합 생성"
   ]
  },
  {
   "cell_type": "markdown",
   "id": "enhanced-wells",
   "metadata": {},
   "source": [
    "생성된 단어 집합으로부터 빈도수가 낮은 단어들은 훈련 데이터에서 제외하도록 하겠습니다.  \n",
    "등장 빈도수가 11회 미만인 단어들이 데이터에서 얼만큼의 비중을 차지하는지 확인해 보도록 하겠습니다."
   ]
  },
  {
   "cell_type": "code",
   "execution_count": 25,
   "id": "blank-auckland",
   "metadata": {},
   "outputs": [
    {
     "name": "stdout",
     "output_type": "stream",
     "text": [
      "단어 집합(vocabulary)의 크기 : 69640\n",
      "등장 빈도가 10번 이하인 희귀 단어의 수: 52157\n",
      "단어 집합에서 희귀 단어를 제외시킬 경우의 단어 집합의 크기 17483\n",
      "단어 집합에서 희귀 단어의 비율: 74.89517518667432\n",
      "전체 등장 빈도에서 희귀 단어 등장 빈도 비율: 4.88893751100337\n"
     ]
    }
   ],
   "source": [
    "threshold = 11\n",
    "total_cnt = len(src_tokenizer.word_index) # 단어의 수\n",
    "rare_cnt = 0 # 등장 빈도수가 threshold보다 작은 단어의 개수를 카운트\n",
    "total_freq = 0 # 훈련 데이터의 전체 단어 빈도수 총 합\n",
    "rare_freq = 0 # 등장 빈도수가 threshold보다 작은 단어의 등장 빈도수의 총 합\n",
    "\n",
    "# 단어와 빈도수의 쌍(pair)을 key와 value로 받는다.\n",
    "for key, value in src_tokenizer.word_counts.items():\n",
    "    total_freq = total_freq + value\n",
    "\n",
    "    # 단어의 등장 빈도수가 threshold보다 작으면\n",
    "    if(value < threshold):\n",
    "        rare_cnt = rare_cnt + 1\n",
    "        rare_freq = rare_freq + value\n",
    "\n",
    "print('단어 집합(vocabulary)의 크기 :',total_cnt)\n",
    "print('등장 빈도가 %s번 이하인 희귀 단어의 수: %s'%(threshold - 1, rare_cnt))\n",
    "print('단어 집합에서 희귀 단어를 제외시킬 경우의 단어 집합의 크기 %s'%(total_cnt - rare_cnt))\n",
    "print(\"단어 집합에서 희귀 단어의 비율:\", (rare_cnt / total_cnt)*100)\n",
    "print(\"전체 등장 빈도에서 희귀 단어 등장 빈도 비율:\", (rare_freq / total_freq)*100)"
   ]
  },
  {
   "cell_type": "markdown",
   "id": "digital-exemption",
   "metadata": {},
   "source": [
    "등장 빈도가 11회 미만인 단어들은 단어 집합에서 약 75% 를 차지합니다.  \n",
    "하지만, 실제로 훈련 데이터에서 등장 빈도로 차지하는 비중은 상대적으로 적은 수치인 약 5% 밖에 되지 않습니다.  \n",
    "그래서 등장 빈도가 10회 이하인 단어들은 정수 인코딩 과정에서 빼고, 훈련 데이터에서 제거합니다.  \n",
    "단어 집합의 크기를 17,000으로 제한하도록 하겠습니다."
   ]
  },
  {
   "cell_type": "code",
   "execution_count": 26,
   "id": "administrative-recruitment",
   "metadata": {},
   "outputs": [
    {
     "name": "stdout",
     "output_type": "stream",
     "text": [
      "[[4197, 9, 1134, 10, 53, 2563, 37, 63, 9843, 1176, 732, 911, 10237, 1326, 911, 17, 812, 2656, 327, 1967, 99, 45, 272, 10237, 179, 1354, 342, 2094, 9, 1], [3, 13, 993, 80, 2515, 4839, 999, 657, 773, 7252, 56, 592, 55, 9, 14781, 177, 1247, 518, 4569, 469, 5936, 3003, 469, 1247, 1247, 1295, 4713, 15386, 136, 658, 6, 816], [1867, 525, 3052, 9479, 3068, 499, 4007, 1106, 42, 19, 6396, 387, 77, 663, 433, 1311, 7458, 1164, 19, 232, 1867, 525, 8019, 9288, 414, 5102, 29, 12, 5151, 34, 4007, 1106, 3533, 3624, 19, 303, 635, 310, 295]]\n"
     ]
    }
   ],
   "source": [
    "src_vocab = 17000\n",
    "src_tokenizer = Tokenizer(num_words = src_vocab) # 단어 집합의 크기를 20000으로 제한\n",
    "src_tokenizer.fit_on_texts(encoder_input_train) # 단어 집합 재생성.\n",
    "\n",
    "# 텍스트 시퀀스를 정수 시퀀스로 변환\n",
    "encoder_input_train = src_tokenizer.texts_to_sequences(encoder_input_train) \n",
    "encoder_input_test = src_tokenizer.texts_to_sequences(encoder_input_test)\n",
    "\n",
    "#잘 진행되었는지 샘플 출력\n",
    "print(encoder_input_train[:3])"
   ]
  },
  {
   "cell_type": "markdown",
   "id": "located-soldier",
   "metadata": {},
   "source": [
    "headlines 데이터에 대해서도 동일한 작업을 수행하겠습니다."
   ]
  },
  {
   "cell_type": "code",
   "execution_count": 27,
   "id": "second-gamma",
   "metadata": {},
   "outputs": [],
   "source": [
    "tar_tokenizer = Tokenizer()\n",
    "tar_tokenizer.fit_on_texts(decoder_input_train)"
   ]
  },
  {
   "cell_type": "code",
   "execution_count": 34,
   "id": "assigned-model",
   "metadata": {},
   "outputs": [
    {
     "name": "stdout",
     "output_type": "stream",
     "text": [
      "단어 집합(vocabulary)의 크기 : 30166\n",
      "등장 빈도가 7번 이하인 희귀 단어의 수: 21363\n",
      "단어 집합에서 희귀 단어를 제외시킬 경우의 단어 집합의 크기 8803\n",
      "단어 집합에서 희귀 단어의 비율: 70.81813962739508\n",
      "전체 등장 빈도에서 희귀 단어 등장 빈도 비율: 5.951513954550505\n"
     ]
    }
   ],
   "source": [
    "threshold = 8\n",
    "total_cnt = len(tar_tokenizer.word_index) # 단어의 수\n",
    "rare_cnt = 0 # 등장 빈도수가 threshold보다 작은 단어의 개수를 카운트\n",
    "total_freq = 0 # 훈련 데이터의 전체 단어 빈도수 총 합\n",
    "rare_freq = 0 # 등장 빈도수가 threshold보다 작은 단어의 등장 빈도수의 총 합\n",
    "\n",
    "# 단어와 빈도수의 쌍(pair)을 key와 value로 받는다.\n",
    "for key, value in tar_tokenizer.word_counts.items():\n",
    "    total_freq = total_freq + value\n",
    "\n",
    "    # 단어의 등장 빈도수가 threshold보다 작으면\n",
    "    if(value < threshold):\n",
    "        rare_cnt = rare_cnt + 1\n",
    "        rare_freq = rare_freq + value\n",
    "\n",
    "print('단어 집합(vocabulary)의 크기 :',total_cnt)\n",
    "print('등장 빈도가 %s번 이하인 희귀 단어의 수: %s'%(threshold - 1, rare_cnt))\n",
    "print('단어 집합에서 희귀 단어를 제외시킬 경우의 단어 집합의 크기 %s'%(total_cnt - rare_cnt))\n",
    "print(\"단어 집합에서 희귀 단어의 비율:\", (rare_cnt / total_cnt)*100)\n",
    "print(\"전체 등장 빈도에서 희귀 단어 등장 빈도 비율:\", (rare_freq / total_freq)*100)"
   ]
  },
  {
   "cell_type": "code",
   "execution_count": 35,
   "id": "structured-provider",
   "metadata": {},
   "outputs": [
    {
     "name": "stdout",
     "output_type": "stream",
     "text": [
      "input  [[1, 20, 4683, 6, 69, 7, 6, 548, 2409], [1, 565, 97, 2283, 7677, 6, 1109, 97, 8, 313, 621], [1, 456, 4286, 1654, 51, 7], [1, 75, 5208, 838, 4287, 14, 6479], [1, 314, 4817, 260, 3115, 983, 175]]\n",
      "decoder  [[20, 4683, 6, 69, 7, 6, 548, 2409, 2], [565, 97, 2283, 7677, 6, 1109, 97, 8, 313, 621, 2], [456, 4286, 1654, 51, 7, 2], [75, 5208, 838, 4287, 14, 6479, 2], [314, 4817, 260, 3115, 983, 175, 2]]\n"
     ]
    }
   ],
   "source": [
    "tar_vocab = 8500\n",
    "tar_tokenizer = Tokenizer(num_words = tar_vocab) \n",
    "tar_tokenizer.fit_on_texts(decoder_input_train)\n",
    "tar_tokenizer.fit_on_texts(decoder_target_train)\n",
    "\n",
    "# 텍스트 시퀀스를 정수 시퀀스로 변환\n",
    "decoder_input_train = tar_tokenizer.texts_to_sequences(decoder_input_train) \n",
    "decoder_target_train = tar_tokenizer.texts_to_sequences(decoder_target_train)\n",
    "decoder_input_test = tar_tokenizer.texts_to_sequences(decoder_input_test)\n",
    "decoder_target_test = tar_tokenizer.texts_to_sequences(decoder_target_test)\n",
    "\n",
    "#잘 변환되었는지 확인\n",
    "print('input ',decoder_input_train[:5])\n",
    "print('decoder ',decoder_target_train[:5])"
   ]
  },
  {
   "cell_type": "markdown",
   "id": "breathing-success",
   "metadata": {},
   "source": [
    "정상적으로 정수 인코딩 작업이 끝났습니다.  \n",
    "전체 데이터에서 빈도수가 낮은 단어가 삭제되었다는 것은 빈도수가 낮은 단어만으로 구성되었던 샘플들은 빈 샘플이 되었을 가능성이 있습니다.  \n",
    "요약문의 길이가 1인 샘플들은 모두 삭제하도록 하겠습니다. (빈 샘플은 시작 토큰과 종료 토큰만 남아있기 때문에 길이가 1인 샘플 삭제)"
   ]
  },
  {
   "cell_type": "code",
   "execution_count": 36,
   "id": "specialized-onion",
   "metadata": {},
   "outputs": [
    {
     "name": "stdout",
     "output_type": "stream",
     "text": [
      "========== 삭제 전 ==========\n",
      "훈련 데이터의 개수 : 78660\n",
      "훈련 레이블의 개수 : 78660\n",
      "테스트 데이터의 개수 : 19664\n",
      "테스트 레이블의 개수 : 19664\n"
     ]
    }
   ],
   "source": [
    "print('='*10 ,'삭제 전', '='*10)\n",
    "print('훈련 데이터의 개수 :', len(encoder_input_train))\n",
    "print('훈련 레이블의 개수 :',len(decoder_input_train))\n",
    "print('테스트 데이터의 개수 :',len(encoder_input_test))\n",
    "print('테스트 레이블의 개수 :',len(decoder_input_test))"
   ]
  },
  {
   "cell_type": "code",
   "execution_count": 37,
   "id": "constitutional-heart",
   "metadata": {},
   "outputs": [
    {
     "name": "stdout",
     "output_type": "stream",
     "text": [
      "삭제할 훈련 데이터의 개수 : 1\n",
      "삭제할 테스트 데이터의 개수 : 0\n"
     ]
    },
    {
     "name": "stderr",
     "output_type": "stream",
     "text": [
      "/home/aiffel-dj41/anaconda3/envs/aiffel/lib/python3.7/site-packages/numpy/core/_asarray.py:83: VisibleDeprecationWarning: Creating an ndarray from ragged nested sequences (which is a list-or-tuple of lists-or-tuples-or ndarrays with different lengths or shapes) is deprecated. If you meant to do this, you must specify 'dtype=object' when creating the ndarray\n",
      "  return array(a, dtype, copy=False, order=order)\n"
     ]
    }
   ],
   "source": [
    "drop_train = [index for index, sentence in enumerate(decoder_input_train) if len(sentence) == 1]\n",
    "drop_test = [index for index, sentence in enumerate(decoder_input_test) if len(sentence) == 1]\n",
    "\n",
    "print('삭제할 훈련 데이터의 개수 :',len(drop_train))\n",
    "print('삭제할 테스트 데이터의 개수 :',len(drop_test))\n",
    "\n",
    "encoder_input_train = np.delete(encoder_input_train, drop_train, axis=0)\n",
    "decoder_input_train = np.delete(decoder_input_train, drop_train, axis=0)\n",
    "decoder_target_train = np.delete(decoder_target_train, drop_train, axis=0)\n",
    "\n",
    "encoder_input_test = np.delete(encoder_input_test, drop_test, axis=0)\n",
    "decoder_input_test = np.delete(decoder_input_test, drop_test, axis=0)\n",
    "decoder_target_test = np.delete(decoder_target_test, drop_test, axis=0)"
   ]
  },
  {
   "cell_type": "code",
   "execution_count": 38,
   "id": "spoken-scene",
   "metadata": {},
   "outputs": [
    {
     "name": "stdout",
     "output_type": "stream",
     "text": [
      "========== 삭제 후 ==========\n",
      "훈련 데이터의 개수 : 78659\n",
      "훈련 레이블의 개수 : 78659\n",
      "테스트 데이터의 개수 : 19664\n",
      "테스트 레이블의 개수 : 19664\n"
     ]
    }
   ],
   "source": [
    "print('='*10 ,'삭제 후', '='*10)\n",
    "print('훈련 데이터의 개수 :', len(encoder_input_train))\n",
    "print('훈련 레이블의 개수 :',len(decoder_input_train))\n",
    "print('테스트 데이터의 개수 :',len(encoder_input_test))\n",
    "print('테스트 레이블의 개수 :',len(decoder_input_test))"
   ]
  },
  {
   "cell_type": "markdown",
   "id": "comfortable-noise",
   "metadata": {},
   "source": [
    "### 4.8 패딩하기"
   ]
  },
  {
   "cell_type": "markdown",
   "id": "written-yemen",
   "metadata": {},
   "source": [
    "텍스트 시퀀스를 정수 시퀀스로 변환했다면, 이제 다른 길이의 샘플들을 병렬 처리하기 위해 같은 길이로 맞춰주는 패딩 작업을 해주어야 합니다.  \n",
    "아까 정해두었던 최대 길이로 패딩하도록 하겠습니다. (= 최대 길이보다 짧은 데이터들 뒤의 공간에 숫자 0을 넣어 최대 길이로 맞추기)"
   ]
  },
  {
   "cell_type": "code",
   "execution_count": 39,
   "id": "loose-undergraduate",
   "metadata": {},
   "outputs": [
    {
     "name": "stdout",
     "output_type": "stream",
     "text": [
      "==================================================== 패딩 전 ====================================================\n",
      "encoder_input_train\n",
      "[4197, 9, 1134, 10, 53, 2563, 37, 63, 9843, 1176, 732, 911, 10237, 1326, 911, 17, 812, 2656, 327, 1967, 99, 45, 272, 10237, 179, 1354, 342, 2094, 9, 1]\n",
      "\n",
      "encoder_input_test\n",
      "[4112, 345, 147, 318, 212, 8837, 4105, 1134, 12230, 456, 212, 187, 78, 7, 345, 147, 129, 1571, 143, 255, 809, 212, 40, 147, 8425, 3693, 4105, 328]\n",
      "\n",
      "decoder_input_train\n",
      "[1, 20, 4683, 6, 69, 7, 6, 548, 2409]\n",
      "\n",
      "decoder_target_train\n",
      "[20, 4683, 6, 69, 7, 6, 548, 2409, 2]\n",
      "\n",
      "decoder_input_test\n",
      "[1, 3708, 521, 15, 527, 6, 5776, 515, 3947]\n",
      "\n",
      "decoder_target_test\n",
      "[3708, 521, 15, 527, 6, 5776, 515, 3947, 2]\n",
      "\n"
     ]
    }
   ],
   "source": [
    "print('='*52 ,'패딩 전', '='*52)\n",
    "print('encoder_input_train')\n",
    "print(encoder_input_train[0])\n",
    "print()\n",
    "print('encoder_input_test')\n",
    "print(encoder_input_test[0])\n",
    "print()\n",
    "print('decoder_input_train')\n",
    "print(decoder_input_train[0])\n",
    "print()\n",
    "print('decoder_target_train')\n",
    "print(decoder_target_train[0])\n",
    "print()\n",
    "print('decoder_input_test')\n",
    "print(decoder_input_test[0])\n",
    "print()\n",
    "print('decoder_target_test')\n",
    "print(decoder_target_test[0])\n",
    "print()"
   ]
  },
  {
   "cell_type": "code",
   "execution_count": 40,
   "id": "fabulous-pontiac",
   "metadata": {},
   "outputs": [],
   "source": [
    "encoder_input_train = pad_sequences(encoder_input_train, maxlen = text_max_len, padding='post')\n",
    "encoder_input_test = pad_sequences(encoder_input_test, maxlen = text_max_len, padding='post')\n",
    "decoder_input_train = pad_sequences(decoder_input_train, maxlen = headlines_max_len, padding='post')\n",
    "decoder_target_train = pad_sequences(decoder_target_train, maxlen = headlines_max_len, padding='post')\n",
    "decoder_input_test = pad_sequences(decoder_input_test, maxlen = headlines_max_len, padding='post')\n",
    "decoder_target_test = pad_sequences(decoder_target_test, maxlen = headlines_max_len, padding='post')"
   ]
  },
  {
   "cell_type": "code",
   "execution_count": 41,
   "id": "printable-trail",
   "metadata": {},
   "outputs": [
    {
     "name": "stdout",
     "output_type": "stream",
     "text": [
      "==================================================== 패딩 후 ====================================================\n",
      "encoder_input_train\n",
      "[ 4197     9  1134    10    53  2563    37    63  9843  1176   732   911\n",
      " 10237  1326   911    17   812  2656   327  1967    99    45   272 10237\n",
      "   179  1354   342  2094     9     1     0     0     0     0     0     0\n",
      "     0     0     0     0     0     0     0     0     0     0     0     0\n",
      "     0     0]\n",
      "\n",
      "encoder_input_test\n",
      "[ 4112   345   147   318   212  8837  4105  1134 12230   456   212   187\n",
      "    78     7   345   147   129  1571   143   255   809   212    40   147\n",
      "  8425  3693  4105   328     0     0     0     0     0     0     0     0\n",
      "     0     0     0     0     0     0     0     0     0     0     0     0\n",
      "     0     0]\n",
      "\n",
      "decoder_input_train\n",
      "[   1   20 4683    6   69    7    6  548 2409    0    0    0    0    0]\n",
      "\n",
      "decoder_target_train\n",
      "[  20 4683    6   69    7    6  548 2409    2    0    0    0    0    0]\n",
      "\n",
      "decoder_input_test\n",
      "[   1 3708  521   15  527    6 5776  515 3947    0    0    0    0    0]\n",
      "\n",
      "decoder_target_test\n",
      "[3708  521   15  527    6 5776  515 3947    2    0    0    0    0    0]\n",
      "\n"
     ]
    }
   ],
   "source": [
    "print('='*52 ,'패딩 후', '='*52)\n",
    "print('encoder_input_train')\n",
    "print(encoder_input_train[0])\n",
    "print()\n",
    "print('encoder_input_test')\n",
    "print(encoder_input_test[0])\n",
    "print()\n",
    "print('decoder_input_train')\n",
    "print(decoder_input_train[0])\n",
    "print()\n",
    "print('decoder_target_train')\n",
    "print(decoder_target_train[0])\n",
    "print()\n",
    "print('decoder_input_test')\n",
    "print(decoder_input_test[0])\n",
    "print()\n",
    "print('decoder_target_test')\n",
    "print(decoder_target_test[0])\n",
    "print()"
   ]
  },
  {
   "cell_type": "markdown",
   "id": "conditional-tuning",
   "metadata": {},
   "source": [
    "## 5 모델 설계하기"
   ]
  },
  {
   "cell_type": "markdown",
   "id": "happy-toolbox",
   "metadata": {},
   "source": [
    "### 5.1 인코더 설계하기"
   ]
  },
  {
   "cell_type": "markdown",
   "id": "leading-blues",
   "metadata": {},
   "source": [
    "함수형 API를 이용해서 인코더를 설계해 보도록 하겠습니다."
   ]
  },
  {
   "cell_type": "code",
   "execution_count": 42,
   "id": "bearing-bronze",
   "metadata": {},
   "outputs": [
    {
     "name": "stdout",
     "output_type": "stream",
     "text": [
      "WARNING:tensorflow:Layer lstm will not use cuDNN kernel since it doesn't meet the cuDNN kernel criteria. It will use generic GPU kernel as fallback when running on GPU\n",
      "WARNING:tensorflow:Layer lstm_1 will not use cuDNN kernel since it doesn't meet the cuDNN kernel criteria. It will use generic GPU kernel as fallback when running on GPU\n",
      "WARNING:tensorflow:Layer lstm_2 will not use cuDNN kernel since it doesn't meet the cuDNN kernel criteria. It will use generic GPU kernel as fallback when running on GPU\n"
     ]
    }
   ],
   "source": [
    "from tensorflow.keras.layers import Input, LSTM, Embedding, Dense, Concatenate\n",
    "from tensorflow.keras.models import Model\n",
    "from tensorflow.keras.callbacks import EarlyStopping, ModelCheckpoint\n",
    "\n",
    "\n",
    "# 인코더 설계 시작\n",
    "embedding_dim = 256\n",
    "hidden_size = 512\n",
    "\n",
    "# 인코더\n",
    "encoder_inputs = Input(shape=(text_max_len,))\n",
    "\n",
    "# 인코더의 임베딩 층\n",
    "enc_emb = Embedding(src_vocab, embedding_dim)(encoder_inputs)\n",
    "\n",
    "# 인코더의 LSTM 1\n",
    "encoder_lstm1 = LSTM(hidden_size, return_sequences=True, return_state=True ,dropout = 0.4, recurrent_dropout = 0.4)\n",
    "encoder_output1, state_h1, state_c1 = encoder_lstm1(enc_emb)\n",
    "\n",
    "# 인코더의 LSTM 2\n",
    "encoder_lstm2 = LSTM(hidden_size, return_sequences=True, return_state=True, dropout=0.4, recurrent_dropout=0.4)\n",
    "encoder_output2, state_h2, state_c2 = encoder_lstm2(encoder_output1)\n",
    "\n",
    "# 인코더의 LSTM 3\n",
    "encoder_lstm3 = LSTM(hidden_size, return_state=True, return_sequences=True, dropout=0.4, recurrent_dropout=0.4)\n",
    "encoder_outputs, state_h, state_c= encoder_lstm3(encoder_output2)"
   ]
  },
  {
   "cell_type": "markdown",
   "id": "southeast-polish",
   "metadata": {},
   "source": [
    "### 5.2 디코더 설계하기"
   ]
  },
  {
   "cell_type": "markdown",
   "id": "nearby-destruction",
   "metadata": {},
   "source": [
    "디코더의 임베딩 층과 LSTM을 설계하는 것은 인코더와 거의 동일합니다.  \n",
    "하지만 LSTM의 입력을 정의할 때, initial_state의 인자값으로 인코더의 hidden state와 cell state의 값을 넣어줘야 합니다."
   ]
  },
  {
   "cell_type": "code",
   "execution_count": 43,
   "id": "above-raleigh",
   "metadata": {},
   "outputs": [
    {
     "name": "stdout",
     "output_type": "stream",
     "text": [
      "WARNING:tensorflow:Layer lstm_3 will not use cuDNN kernel since it doesn't meet the cuDNN kernel criteria. It will use generic GPU kernel as fallback when running on GPU\n"
     ]
    }
   ],
   "source": [
    "# 디코더 설계\n",
    "decoder_inputs = Input(shape=(None,))\n",
    "\n",
    "# 디코더의 임베딩 층\n",
    "dec_emb_layer = Embedding(tar_vocab, embedding_dim)\n",
    "dec_emb = dec_emb_layer(decoder_inputs)\n",
    "\n",
    "# 디코더의 LSTM\n",
    "decoder_lstm = LSTM(hidden_size, return_sequences = True, return_state = True, dropout = 0.4, recurrent_dropout=0.2)\n",
    "decoder_outputs, _, _ = decoder_lstm(dec_emb, initial_state = [state_h, state_c])"
   ]
  },
  {
   "cell_type": "markdown",
   "id": "crucial-martial",
   "metadata": {},
   "source": [
    "디코더의 출력층을 설계하겠습니다."
   ]
  },
  {
   "cell_type": "code",
   "execution_count": 44,
   "id": "flush-bread",
   "metadata": {},
   "outputs": [
    {
     "name": "stdout",
     "output_type": "stream",
     "text": [
      "Model: \"model\"\n",
      "__________________________________________________________________________________________________\n",
      "Layer (type)                    Output Shape         Param #     Connected to                     \n",
      "==================================================================================================\n",
      "input_1 (InputLayer)            [(None, 50)]         0                                            \n",
      "__________________________________________________________________________________________________\n",
      "embedding (Embedding)           (None, 50, 256)      4352000     input_1[0][0]                    \n",
      "__________________________________________________________________________________________________\n",
      "lstm (LSTM)                     [(None, 50, 512), (N 1574912     embedding[0][0]                  \n",
      "__________________________________________________________________________________________________\n",
      "input_2 (InputLayer)            [(None, None)]       0                                            \n",
      "__________________________________________________________________________________________________\n",
      "lstm_1 (LSTM)                   [(None, 50, 512), (N 2099200     lstm[0][0]                       \n",
      "__________________________________________________________________________________________________\n",
      "embedding_1 (Embedding)         (None, None, 256)    2176000     input_2[0][0]                    \n",
      "__________________________________________________________________________________________________\n",
      "lstm_2 (LSTM)                   [(None, 50, 512), (N 2099200     lstm_1[0][0]                     \n",
      "__________________________________________________________________________________________________\n",
      "lstm_3 (LSTM)                   [(None, None, 512),  1574912     embedding_1[0][0]                \n",
      "                                                                 lstm_2[0][1]                     \n",
      "                                                                 lstm_2[0][2]                     \n",
      "__________________________________________________________________________________________________\n",
      "dense (Dense)                   (None, None, 8500)   4360500     lstm_3[0][0]                     \n",
      "==================================================================================================\n",
      "Total params: 18,236,724\n",
      "Trainable params: 18,236,724\n",
      "Non-trainable params: 0\n",
      "__________________________________________________________________________________________________\n"
     ]
    }
   ],
   "source": [
    "# 디코더의 출력층\n",
    "decoder_softmax_layer = Dense(tar_vocab, activation = 'softmax')\n",
    "decoder_softmax_outputs = decoder_softmax_layer(decoder_outputs) \n",
    "\n",
    "# 모델 정의\n",
    "model = Model([encoder_inputs, decoder_inputs], decoder_softmax_outputs)\n",
    "model.summary()"
   ]
  },
  {
   "cell_type": "markdown",
   "id": "driving-format",
   "metadata": {},
   "source": [
    "### 5.3 어텐션 메커니즘"
   ]
  },
  {
   "cell_type": "markdown",
   "id": "senior-endorsement",
   "metadata": {},
   "source": [
    "이미 구현된 어텐션 함수를 가져와서 디코더의 출력층과 결합해 보도록 하겠습니다.  \n",
    "<br/>\n",
    "\n",
    "아래의 코드를 수행하여 깃허브에 공개되어 있는 어텐션 함수를 다운로드합니다."
   ]
  },
  {
   "cell_type": "code",
   "execution_count": 45,
   "id": "rational-miniature",
   "metadata": {},
   "outputs": [],
   "source": [
    "urllib.request.urlretrieve(\"https://raw.githubusercontent.com/thushv89/attention_keras/master/src/layers/attention.py\", filename=\"attention.py\")\n",
    "from attention import AttentionLayer"
   ]
  },
  {
   "cell_type": "markdown",
   "id": "allied-portal",
   "metadata": {},
   "source": [
    "어텐션 메커니즘을 사용하기 위해 설계한 디코더의 출력층을 수정합니다."
   ]
  },
  {
   "cell_type": "code",
   "execution_count": 46,
   "id": "explicit-vault",
   "metadata": {},
   "outputs": [
    {
     "name": "stdout",
     "output_type": "stream",
     "text": [
      "Model: \"model_1\"\n",
      "__________________________________________________________________________________________________\n",
      "Layer (type)                    Output Shape         Param #     Connected to                     \n",
      "==================================================================================================\n",
      "input_1 (InputLayer)            [(None, 50)]         0                                            \n",
      "__________________________________________________________________________________________________\n",
      "embedding (Embedding)           (None, 50, 256)      4352000     input_1[0][0]                    \n",
      "__________________________________________________________________________________________________\n",
      "lstm (LSTM)                     [(None, 50, 512), (N 1574912     embedding[0][0]                  \n",
      "__________________________________________________________________________________________________\n",
      "input_2 (InputLayer)            [(None, None)]       0                                            \n",
      "__________________________________________________________________________________________________\n",
      "lstm_1 (LSTM)                   [(None, 50, 512), (N 2099200     lstm[0][0]                       \n",
      "__________________________________________________________________________________________________\n",
      "embedding_1 (Embedding)         (None, None, 256)    2176000     input_2[0][0]                    \n",
      "__________________________________________________________________________________________________\n",
      "lstm_2 (LSTM)                   [(None, 50, 512), (N 2099200     lstm_1[0][0]                     \n",
      "__________________________________________________________________________________________________\n",
      "lstm_3 (LSTM)                   [(None, None, 512),  1574912     embedding_1[0][0]                \n",
      "                                                                 lstm_2[0][1]                     \n",
      "                                                                 lstm_2[0][2]                     \n",
      "__________________________________________________________________________________________________\n",
      "attention_layer (AttentionLayer ((None, None, 512),  524800      lstm_2[0][0]                     \n",
      "                                                                 lstm_3[0][0]                     \n",
      "__________________________________________________________________________________________________\n",
      "concat_layer (Concatenate)      (None, None, 1024)   0           lstm_3[0][0]                     \n",
      "                                                                 attention_layer[0][0]            \n",
      "__________________________________________________________________________________________________\n",
      "dense_1 (Dense)                 (None, None, 8500)   8712500     concat_layer[0][0]               \n",
      "==================================================================================================\n",
      "Total params: 23,113,524\n",
      "Trainable params: 23,113,524\n",
      "Non-trainable params: 0\n",
      "__________________________________________________________________________________________________\n"
     ]
    }
   ],
   "source": [
    "# 어텐션 층(어텐션 함수)\n",
    "attn_layer = AttentionLayer(name='attention_layer')\n",
    "# 인코더와 디코더의 모든 time step의 hidden state를 어텐션 층에 전달하고 결과를 리턴\n",
    "attn_out, attn_states = attn_layer([encoder_outputs, decoder_outputs])\n",
    "\n",
    "# 어텐션의 결과와 디코더의 hidden state들을 연결\n",
    "decoder_concat_input = Concatenate(axis = -1, name='concat_layer')([decoder_outputs, attn_out])\n",
    "\n",
    "# 디코더의 출력층\n",
    "decoder_softmax_layer = Dense(tar_vocab, activation='softmax')\n",
    "decoder_softmax_outputs = decoder_softmax_layer(decoder_concat_input)\n",
    "\n",
    "# 모델 정의\n",
    "model = Model([encoder_inputs, decoder_inputs], decoder_softmax_outputs)\n",
    "model.summary()"
   ]
  },
  {
   "cell_type": "markdown",
   "id": "convertible-moderator",
   "metadata": {},
   "source": [
    "## 6 모델 훈련하기"
   ]
  },
  {
   "cell_type": "markdown",
   "id": "crude-filename",
   "metadata": {},
   "source": [
    "설계한 모델을 가지고 훈련을 진행하겠습니다."
   ]
  },
  {
   "cell_type": "markdown",
   "id": "identical-commons",
   "metadata": {},
   "source": [
    "`EarlyStopping` 을 사용하여, 특정 조건이 충족되면 모델의 훈련이 멈추도록 하겠습니다.  \n",
    "검증 데이터의 손실을 모니터링 하면서, 검증 데이터의 손실이 줄어들지 않고 증가하는 현상이 관측되면 학습을 멈추도록 설정합니다.  "
   ]
  },
  {
   "cell_type": "code",
   "execution_count": 47,
   "id": "miniature-bench",
   "metadata": {},
   "outputs": [
    {
     "name": "stdout",
     "output_type": "stream",
     "text": [
      "Epoch 1/50\n",
      "615/615 [==============================] - 305s 497ms/step - loss: 4.5373 - val_loss: 4.0731\n",
      "Epoch 2/50\n",
      "615/615 [==============================] - 305s 496ms/step - loss: 3.8688 - val_loss: 3.6582\n",
      "Epoch 3/50\n",
      "615/615 [==============================] - 299s 486ms/step - loss: 3.5196 - val_loss: 3.4168\n",
      "Epoch 4/50\n",
      "615/615 [==============================] - 300s 488ms/step - loss: 3.2802 - val_loss: 3.2853\n",
      "Epoch 5/50\n",
      "615/615 [==============================] - 300s 488ms/step - loss: 3.0951 - val_loss: 3.1668\n",
      "Epoch 6/50\n",
      "615/615 [==============================] - 300s 488ms/step - loss: 2.9485 - val_loss: 3.0942\n",
      "Epoch 7/50\n",
      "615/615 [==============================] - 300s 488ms/step - loss: 2.8265 - val_loss: 3.0490\n",
      "Epoch 8/50\n",
      "615/615 [==============================] - 300s 488ms/step - loss: 2.7253 - val_loss: 3.0098\n",
      "Epoch 9/50\n",
      "615/615 [==============================] - 286s 465ms/step - loss: 2.6332 - val_loss: 2.9793\n",
      "Epoch 10/50\n",
      "615/615 [==============================] - 270s 439ms/step - loss: 2.5523 - val_loss: 2.9603\n",
      "Epoch 11/50\n",
      "615/615 [==============================] - 271s 440ms/step - loss: 2.4823 - val_loss: 2.9461\n",
      "Epoch 12/50\n",
      "615/615 [==============================] - 270s 439ms/step - loss: 2.4208 - val_loss: 2.9328\n",
      "Epoch 13/50\n",
      "615/615 [==============================] - 271s 440ms/step - loss: 2.3668 - val_loss: 2.9334\n",
      "Epoch 14/50\n",
      "615/615 [==============================] - 269s 438ms/step - loss: 2.3179 - val_loss: 2.9312\n",
      "Epoch 15/50\n",
      "615/615 [==============================] - 270s 440ms/step - loss: 2.2699 - val_loss: 2.9327\n",
      "Epoch 16/50\n",
      "615/615 [==============================] - 271s 441ms/step - loss: 2.2186 - val_loss: 2.9248\n",
      "Epoch 17/50\n",
      "615/615 [==============================] - 271s 440ms/step - loss: 2.1736 - val_loss: 2.9301\n",
      "Epoch 18/50\n",
      "615/615 [==============================] - 269s 437ms/step - loss: 2.1337 - val_loss: 2.9252\n",
      "Epoch 00018: early stopping\n"
     ]
    }
   ],
   "source": [
    "model.compile(optimizer='rmsprop', loss='sparse_categorical_crossentropy')\n",
    "es = EarlyStopping(monitor='val_loss', mode='min', verbose=1, patience = 2)\n",
    "history = model.fit(x = [encoder_input_train, decoder_input_train], y = decoder_target_train, \\\n",
    "          validation_data = ([encoder_input_test, decoder_input_test], decoder_target_test),\n",
    "          batch_size = 128, callbacks=[es], epochs = 50)"
   ]
  },
  {
   "cell_type": "markdown",
   "id": "divine-wallace",
   "metadata": {},
   "source": [
    "훈련 데이터의 손실과 검증 데이터의 손실이 줄어드는 과정을 시각화 해보도록 하겠습니다."
   ]
  },
  {
   "cell_type": "code",
   "execution_count": 48,
   "id": "laden-scroll",
   "metadata": {},
   "outputs": [
    {
     "data": {
      "image/png": "[encoded data removed]",
      "text/plain": [
       "<Figure size 432x288 with 1 Axes>"
      ]
     },
     "metadata": {
      "needs_background": "light"
     },
     "output_type": "display_data"
    }
   ],
   "source": [
    "plt.plot(history.history['loss'], label='train')\n",
    "plt.plot(history.history['val_loss'], label='test')\n",
    "plt.legend()\n",
    "plt.show()"
   ]
  },
  {
   "cell_type": "markdown",
   "id": "printable-death",
   "metadata": {},
   "source": [
    "## 7 인퍼런스 모델 구현하기"
   ]
  },
  {
   "cell_type": "markdown",
   "id": "completed-rebate",
   "metadata": {},
   "source": [
    "테스트 단계에서 정수 인덱스 행렬로 존재하던 텍스트 데이터를 실제 데이터로 복원해야 하므로, 필요한 3개의 사전을 미리 준비합니다."
   ]
  },
  {
   "cell_type": "code",
   "execution_count": 49,
   "id": "effective-restoration",
   "metadata": {},
   "outputs": [],
   "source": [
    "src_index_to_word = src_tokenizer.index_word # 원문 단어 집합에서 정수 -> 단어를 얻음\n",
    "tar_word_to_index = tar_tokenizer.word_index # 요약 단어 집합에서 단어 -> 정수를 얻음\n",
    "tar_index_to_word = tar_tokenizer.index_word # 요약 단어 집합에서 정수 -> 단어를 얻음"
   ]
  },
  {
   "cell_type": "markdown",
   "id": "fifth-helping",
   "metadata": {},
   "source": [
    "seq2seq는 훈련할 때와 실제 동작할 때(인퍼런스 단계)의 방식이 다르므로, 그에 맞게 모델 설계를 별도로 진행해야합니다.  \n",
    "인코더 모델과 디코더 모델을 분리하여 인퍼런스 모델을 설계합니다."
   ]
  },
  {
   "cell_type": "code",
   "execution_count": 50,
   "id": "sublime-cigarette",
   "metadata": {},
   "outputs": [],
   "source": [
    "# 인코더 설계\n",
    "encoder_model = Model(inputs=encoder_inputs, outputs=[encoder_outputs, state_h, state_c])\n",
    "\n",
    "# 이전 시점의 상태들을 저장하는 텐서\n",
    "decoder_state_input_h = Input(shape=(hidden_size,))\n",
    "decoder_state_input_c = Input(shape=(hidden_size,))\n",
    "\n",
    "dec_emb2 = dec_emb_layer(decoder_inputs)\n",
    "# 문장의 다음 단어를 예측하기 위해서 초기 상태(initial_state)를 이전 시점의 상태로 사용. 이는 뒤의 함수 decode_sequence()에 구현\n",
    "# 훈련 과정에서와 달리 LSTM의 리턴하는 은닉 상태와 셀 상태인 state_h와 state_c를 버리지 않음.\n",
    "decoder_outputs2, state_h2, state_c2 = decoder_lstm(dec_emb2, initial_state=[decoder_state_input_h, decoder_state_input_c])"
   ]
  },
  {
   "cell_type": "code",
   "execution_count": 51,
   "id": "convertible-puzzle",
   "metadata": {},
   "outputs": [],
   "source": [
    "# 어텐션 함수\n",
    "decoder_hidden_state_input = Input(shape=(text_max_len, hidden_size))\n",
    "attn_out_inf, attn_states_inf = attn_layer([decoder_hidden_state_input, decoder_outputs2])\n",
    "decoder_inf_concat = Concatenate(axis=-1, name='concat')([decoder_outputs2, attn_out_inf])\n",
    "\n",
    "# 디코더의 출력층\n",
    "decoder_outputs2 = decoder_softmax_layer(decoder_inf_concat) \n",
    "\n",
    "# 최종 디코더 모델\n",
    "decoder_model = Model(\n",
    "    [decoder_inputs] + [decoder_hidden_state_input,decoder_state_input_h, decoder_state_input_c],\n",
    "    [decoder_outputs2] + [state_h2, state_c2])"
   ]
  },
  {
   "cell_type": "code",
   "execution_count": 52,
   "id": "small-vitamin",
   "metadata": {},
   "outputs": [],
   "source": [
    "# 인퍼런스 단계에서 단어 시퀀스를 완성하는 함수\n",
    "\n",
    "def decode_sequence(input_seq):\n",
    "    # 입력으로부터 인코더의 상태를 얻음\n",
    "    e_out, e_h, e_c = encoder_model.predict(input_seq)\n",
    "\n",
    "     # <SOS>에 해당하는 토큰 생성\n",
    "    target_seq = np.zeros((1,1))\n",
    "    target_seq[0, 0] = tar_word_to_index['sostoken']\n",
    "\n",
    "    stop_condition = False\n",
    "    decoded_sentence = ''\n",
    "    while not stop_condition: # stop_condition이 True가 될 때까지 루프 반복\n",
    "\n",
    "        output_tokens, h, c = decoder_model.predict([target_seq] + [e_out, e_h, e_c])\n",
    "        sampled_token_index = np.argmax(output_tokens[0, -1, :])\n",
    "        sampled_token = tar_index_to_word[sampled_token_index]\n",
    "\n",
    "        if(sampled_token!='eostoken'):\n",
    "            decoded_sentence += ' '+sampled_token\n",
    "\n",
    "        #  <eos>에 도달하거나 최대 길이를 넘으면 중단.\n",
    "        if (sampled_token == 'eostoken'  or len(decoded_sentence.split()) >= (headlines_max_len-1)):\n",
    "            stop_condition = True\n",
    "\n",
    "        # 길이가 1인 타겟 시퀀스를 업데이트\n",
    "        target_seq = np.zeros((1,1))\n",
    "        target_seq[0, 0] = sampled_token_index\n",
    "\n",
    "        # 상태를 업데이트 합니다.\n",
    "        e_h, e_c = h, c\n",
    "\n",
    "    return decoded_sentence"
   ]
  },
  {
   "cell_type": "markdown",
   "id": "elementary-duplicate",
   "metadata": {},
   "source": [
    "## 8 모델 테스트하기"
   ]
  },
  {
   "cell_type": "markdown",
   "id": "specialized-paintball",
   "metadata": {},
   "source": [
    "테스트 단계에서 정수 시퀀스를 텍스트 시퀀스로 변환하여 결과를 확인하도록 하겠습니다."
   ]
  },
  {
   "cell_type": "markdown",
   "id": "juvenile-induction",
   "metadata": {},
   "source": [
    "주어진 정수 시퀀스 시퀀스를 텍스트 시퀀스로 변환하는 함수를 만들겠습니다.  \n",
    "함수를 만들 때, 숫자 0(패딩), 시작 토큰, 종료 토큰을 출력에서 제외시키고 만들겠습니다."
   ]
  },
  {
   "cell_type": "code",
   "execution_count": 53,
   "id": "moved-wednesday",
   "metadata": {},
   "outputs": [],
   "source": [
    "# 원문의 정수 시퀀스를 텍스트 시퀀스로 변환\n",
    "def seq2text(input_seq):\n",
    "    temp=''\n",
    "    for i in input_seq:\n",
    "        if(i!=0):\n",
    "            temp = temp + src_index_to_word[i]+' '\n",
    "    return temp\n",
    "\n",
    "# 요약문의 정수 시퀀스를 텍스트 시퀀스로 변환\n",
    "def seq2summary(input_seq):\n",
    "    temp=''\n",
    "    for i in input_seq:\n",
    "        if((i!=0 and i!=tar_word_to_index['sostoken']) and i!=tar_word_to_index['eostoken']):\n",
    "            temp = temp + tar_index_to_word[i] + ' '\n",
    "    return temp"
   ]
  },
  {
   "cell_type": "markdown",
   "id": "advised-mixture",
   "metadata": {},
   "source": [
    "테스트 데이터 약 50개의 샘플에 대해서 실제 요약과 예측된 요약을 비교해보도록 하겠습니다."
   ]
  },
  {
   "cell_type": "code",
   "execution_count": 62,
   "id": "imposed-robert",
   "metadata": {},
   "outputs": [
    {
     "name": "stdout",
     "output_type": "stream",
     "text": [
      "원문 : russian businessman engaged lawsuit false trump russian ties filed motion titled six ways misled court picture kitten page filing addressed allegedly facts argument get lawsuit dismissed \n",
      "실제 요약 : lawyers file motion on six ways the court \n",
      "예측 요약 :  russian firm sues us over false charges\n",
      "\n",
      "\n",
      "원문 : brihanmumbai municipal corporation reportedly way start online application process speed granting approvals ganpati mumbai process developing software clear year application officials said notably city organisers seek permissions structures \n",
      "실제 요약 : mumbai civic body to approve ganpati online \n",
      "예측 요약 :  mumbai civic body to allow local to\n",
      "\n",
      "\n",
      "원문 : former footballer david beckham criticised calling hong kong china beckham spent two days shanghai hong kong following posted facebook video captioned great hours china although caption later changed user posted government currency even football team \n",
      "실제 요약 : david beckham slammed for to hong kong as china \n",
      "예측 요약 :  david beckham slammed for china post on paris\n",
      "\n",
      "\n",
      "원문 : jammu kashmir police confirmed two militants including lashkar taiba commander bashir killed anantnag following encounter security forces saturday two civilians also killed ten injured one wanted lashkar commanders carried bounty lakh \n",
      "실제 요약 : militants civilians die in in \n",
      "예측 요약 :  militants killed in encounter in jammu and kashmir\n",
      "\n",
      "\n",
      "원문 : year old girl punjab patiala allegedly raped thursday landlord currently absconding girl complained severe stomach ache following mother consulted doctor informed assault woman son told landlord taken girl following filed fir \n",
      "실제 요약 : year old girl raped by in punjab \n",
      "예측 요약 :  girl raped by year old girl in punjab\n",
      "\n",
      "\n"
     ]
    }
   ],
   "source": [
    "for i in range(10000, 10005):\n",
    "    print(\"원문 :\", seq2text(encoder_input_test[i]))\n",
    "    print(\"실제 요약 :\", seq2summary(decoder_input_test[i]))\n",
    "    print(\"예측 요약 :\", decode_sequence(encoder_input_test[i].reshape(1, text_max_len)))\n",
    "    print(\"\\n\")"
   ]
  },
  {
   "cell_type": "markdown",
   "id": "heavy-accreditation",
   "metadata": {},
   "source": [
    "**1. 첫번째 샘플 요약 비교** \n",
    "\n",
    ">실제 요약 : lawyers file motion on six ways the court  \n",
    "예측 요약 : russian firm sues us over false charges \n",
    "\n",
    "원문 내용은 법, 소송과 관련된 내용으로, 무엇인가 '재판' 하고 있다는 점에서 잘 요약한 것 같다.\n",
    "  \n",
    "**2. 두번째 샘플 요약 비교**  \n",
    "\n",
    ">실제 요약 : mumbai civic body to approve ganpati online  \n",
    "예측 요약 : mumbai civic body to allow local to \n",
    "\n",
    "원문 내용은 뭄바이시가 온라인 허가를 위해 힘쓴다는 내용으로, '뭄마이시가 무엇을 한다.'는 점에서 잘 요약한 것 같다. \n",
    "\n",
    "**3. 세번째 샘플 요약 비교**  \n",
    "\n",
    ">실제 요약 : david beckham slammed for to hong kong as china  \n",
    "예측 요약 : david beckham slammed for china post on paris\n",
    "\n",
    "원문 내용은 데이비드 베컴이 중국을 비난했다는 내용으로, '데이비드 배컴이 중국을 향해 등을 돌렸다.'는 점에서 잘 요약한 것 같다.  \n",
    "\n",
    "**4. 네번째 샘플 요약 비교**  \n",
    "\n",
    ">실제 요약 : militants civilians die in in  \n",
    "예측 요약 : militants killed in encounter in jammu and kashmir \n",
    "\n",
    "원문 내용은 경찰이 사람의 목숨을 빼앗았다는 내용으로, '누군가가 죽었다.'는 점에서 잘 요약한 것 같다.  \n",
    "\n",
    "**5. 다섯번째 샘플 요약 비교**  \n",
    "\n",
    ">실제 요약 : year old girl raped by in punjab  \n",
    "예측 요약 : girl raped by year old girl in punjab \n",
    "\n",
    "원문 내용은 여성이 성폭행을 당했다는 내용으로, '여성이 강간당했다.'는 점에서 잘 요약한 것 같다."
   ]
  },
  {
   "cell_type": "markdown",
   "id": "altered-civilization",
   "metadata": {},
   "source": [
    "## 9 추출적 요약 해보기"
   ]
  },
  {
   "cell_type": "markdown",
   "id": "ahead-report",
   "metadata": {},
   "source": [
    "추출적 요약은 본문에 존재하는 단어구, 문장을 뽑아서 요약하는 방법입니다.  "
   ]
  },
  {
   "cell_type": "markdown",
   "id": "fixed-authorization",
   "metadata": {},
   "source": [
    "### 9.1 summarize 사용하기\n",
    "패키지 `Summa` 에서는 추출적 요약을 위한 모듈인 `summarize` 를 사용하여 간단하게 추출적 요약을 해보도록 하겠습니다.  \n",
    "`Summa` 의 `summarize()` 의 인자로 사용되는 값들은 아래와 같습니다.  \n",
    "> text (str) : 요약할 텍스트  \n",
    "ratio (float, optional) : 요약문을 생성할때, 원본에서 선택되는 문장 비율  \n",
    "words (int or None, optional) : 출력에 포함할 단어 수\n",
    "split (bool, optional) : True면 문장 list / False 는 조인된 문자열을 반환"
   ]
  },
  {
   "cell_type": "code",
   "execution_count": 35,
   "id": "square-importance",
   "metadata": {
    "scrolled": true
   },
   "outputs": [
    {
     "name": "stdout",
     "output_type": "stream",
     "text": [
      "원문 : Saurav Kant, an alumnus of upGrad and IIIT-B's PG Program in Machine learning and Artificial Intelligence, was a Sr Systems Engineer at Infosys with almost 5 years of work experience. The program and upGrad's 360-degree career support helped him transition to a Data Scientist at Tech Mahindra with 90% salary hike. upGrad's Online Power Learning has powered 3 lakh+ careers.\n",
      "실제 요약 : upGrad learner switches to career in ML & Al with 90% salary hike\n",
      "추출적 요약 : upGrad's Online Power Learning has powered 3 lakh+ careers.\n",
      "\n",
      "\n",
      "원문 : Kunal Shah's credit card bill payment platform, CRED, gave users a chance to win free food from Swiggy for one year. Pranav Kaushik, a Delhi techie, bagged this reward after spending 2000 CRED coins. Users get one CRED coin per rupee of bill paid, which can be used to avail rewards from brands like Ixigo, BookMyShow, UberEats, Cult.Fit and more.\n",
      "실제 요약 : Delhi techie wins free food from Swiggy for one year on CRED\n",
      "추출적 요약 : Users get one CRED coin per rupee of bill paid, which can be used to avail rewards from brands like Ixigo, BookMyShow, UberEats, Cult.Fit and more.\n",
      "\n",
      "\n",
      "원문 : New Zealand defeated India by 8 wickets in the fourth ODI at Hamilton on Thursday to win their first match of the five-match ODI series. India lost an international match under Rohit Sharma's captaincy after 12 consecutive victories dating back to March 2018. The match witnessed India getting all out for 92, their seventh lowest total in ODI cricket history.\n",
      "실제 요약 : New Zealand end Rohit Sharma-led India's 12-match winning streak\n",
      "추출적 요약 : The match witnessed India getting all out for 92, their seventh lowest total in ODI cricket history.\n",
      "\n",
      "\n",
      "원문 : With Aegon Life iTerm Insurance plan, customers can enjoy tax benefits on your premiums paid and save up to Ã¢ÂÂ¹46,800^ on taxes. The plan provides life cover up to the age of 100 years. Also, customers have options to insure against Critical Illnesses, Disability and Accidental Death Benefit Rider with a life cover up to the age of 80 years.\n",
      "실제 요약 : Aegon life iTerm insurance plan helps customers save tax\n",
      "추출적 요약 : Also, customers have options to insure against Critical Illnesses, Disability and Accidental Death Benefit Rider with a life cover up to the age of 80 years.\n",
      "\n",
      "\n",
      "원문 : Speaking about the sexual harassment allegations against Rajkumar Hirani, Sonam Kapoor said, \"I've known Hirani for many years...What if it's not true, the [#MeToo] movement will get derailed.\" \"In the #MeToo movement, I always believe a woman. But in this case, we need to reserve our judgment,\" she added. Hirani has been accused by an assistant who worked in 'Sanju'.\n",
      "실제 요약 : Have known Hirani for yrs, what if MeToo claims are not true: Sonam\n",
      "추출적 요약 : Speaking about the sexual harassment allegations against Rajkumar Hirani, Sonam Kapoor said, \"I've known Hirani for many years...What if it's not true, the [#MeToo] movement will get derailed.\" \"In the #MeToo movement, I always believe a woman.\n",
      "\n",
      "\n"
     ]
    }
   ],
   "source": [
    "from summa.summarizer import summarize\n",
    "\n",
    "for i in range(5):\n",
    "    print(\"원문 :\", data.loc[i, ['text']][0])\n",
    "    print(\"실제 요약 :\", data.loc[i, ['headlines']][0])\n",
    "    print(\"추출적 요약 :\", summarize(data.loc[i, ['text']][0], ratio=0.5))\n",
    "    print(\"\\n\")"
   ]
  },
  {
   "cell_type": "markdown",
   "id": "acceptable-capability",
   "metadata": {},
   "source": [
    "### 9.2 keywords 사용하기\n",
    "패키지 `Summa` 에서 `keywords` 모듈을 사용하면 텍스트에서 중요한 단어를 추출할 수 있습니다.  \n",
    "`Summa` 의 `keywords()` 을 사용하여 키워드를 추출해보도록 하겠습니다.  \n",
    "`Summa` 의 `keywords()` 의 인자로 사용되는 값들 `summarize()` 의 인자와 같습니다.  "
   ]
  },
  {
   "cell_type": "code",
   "execution_count": 36,
   "id": "organized-catholic",
   "metadata": {},
   "outputs": [
    {
     "name": "stdout",
     "output_type": "stream",
     "text": [
      "원문 : Saurav Kant, an alumnus of upGrad and IIIT-B's PG Program in Machine learning and Artificial Intelligence, was a Sr Systems Engineer at Infosys with almost 5 years of work experience. The program and upGrad's 360-degree career support helped him transition to a Data Scientist at Tech Mahindra with 90% salary hike. upGrad's Online Power Learning has powered 3 lakh+ careers.\n",
      "실제 요약 : upGrad learner switches to career in ML & Al with 90% salary hike\n",
      "키워드 : ['saurav', 'kant', 'power', 'powered', 'career', 'careers', 'hike']\n",
      "\n",
      "\n",
      "원문 : Kunal Shah's credit card bill payment platform, CRED, gave users a chance to win free food from Swiggy for one year. Pranav Kaushik, a Delhi techie, bagged this reward after spending 2000 CRED coins. Users get one CRED coin per rupee of bill paid, which can be used to avail rewards from brands like Ixigo, BookMyShow, UberEats, Cult.Fit and more.\n",
      "실제 요약 : Delhi techie wins free food from Swiggy for one year on CRED\n",
      "키워드 : ['saurav', 'kant', 'power', 'powered', 'career', 'careers', 'hike']\n",
      "\n",
      "\n",
      "원문 : New Zealand defeated India by 8 wickets in the fourth ODI at Hamilton on Thursday to win their first match of the five-match ODI series. India lost an international match under Rohit Sharma's captaincy after 12 consecutive victories dating back to March 2018. The match witnessed India getting all out for 92, their seventh lowest total in ODI cricket history.\n",
      "실제 요약 : New Zealand end Rohit Sharma-led India's 12-match winning streak\n",
      "키워드 : ['saurav', 'kant', 'power', 'powered', 'career', 'careers', 'hike']\n",
      "\n",
      "\n",
      "원문 : With Aegon Life iTerm Insurance plan, customers can enjoy tax benefits on your premiums paid and save up to Ã¢ÂÂ¹46,800^ on taxes. The plan provides life cover up to the age of 100 years. Also, customers have options to insure against Critical Illnesses, Disability and Accidental Death Benefit Rider with a life cover up to the age of 80 years.\n",
      "실제 요약 : Aegon life iTerm insurance plan helps customers save tax\n",
      "키워드 : ['saurav', 'kant', 'power', 'powered', 'career', 'careers', 'hike']\n",
      "\n",
      "\n",
      "원문 : Speaking about the sexual harassment allegations against Rajkumar Hirani, Sonam Kapoor said, \"I've known Hirani for many years...What if it's not true, the [#MeToo] movement will get derailed.\" \"In the #MeToo movement, I always believe a woman. But in this case, we need to reserve our judgment,\" she added. Hirani has been accused by an assistant who worked in 'Sanju'.\n",
      "실제 요약 : Have known Hirani for yrs, what if MeToo claims are not true: Sonam\n",
      "키워드 : ['saurav', 'kant', 'power', 'powered', 'career', 'careers', 'hike']\n",
      "\n",
      "\n"
     ]
    }
   ],
   "source": [
    "from summa.keywords import keywords\n",
    "\n",
    "for i in range(5):\n",
    "    print(\"원문 :\", data.loc[i, ['text']][0])\n",
    "    print(\"실제 요약 :\", data.loc[i, ['headlines']][0])\n",
    "    print(\"키워드 :\", keywords(data.loc[0, ['text']][0], words = 5, split=True))\n",
    "    print(\"\\n\")"
   ]
  },
  {
   "cell_type": "markdown",
   "id": "printable-posting",
   "metadata": {},
   "source": [
    "추출적 요약을 통해 요약한 문장을 보면 원본에 있는 문장을 그대로 가져와서 요약을 하거나, 원본에 있는 단어를 그대로 가져와서 키워드로 추출합니다.  \n"
   ]
  },
  {
   "cell_type": "markdown",
   "id": "gross-visibility",
   "metadata": {},
   "source": [
    "| | 추상적 요약 | 추출적 요약 |\n",
    "|:----------|:----------|:----------|\n",
    "| 정의 | 원문에 없던 문장이라도 핵심 문맥을 반영한 새로운 문장을 생성해서 원문을 요약하는 방법 | 원문에서 중요한 핵심 문장이나 단어를 몇 개 뽑아서 요약문을 만드는 방법 |\n",
    "| 난이도 | 상 | 하 |\n",
    "| 방법 | seq2seq | Summa 의 summarize(), keywords() |"
   ]
  },
  {
   "cell_type": "markdown",
   "id": "scenic-flight",
   "metadata": {},
   "source": [
    "# [ 결과 - 루브릭 ]\n",
    "**1. Abstractive 모델 구성을 위한 텍스트 전처리 단계가 체계적으로 진행되었다.**\n",
    "- 분석단계, 정제단계, 정규화와 불용어 제거, 데이터셋 분리, 인코딩 과정이 빠짐없이 체계적으로 진행되었습니다. :)  \n",
    "\n",
    "**2. 텍스트 요약모델이 성공적으로 학습되었음을 확인하였다.** \n",
    "- 모델학습이 안정적으로 수렴되었음을 그래프를 통해 확인하였으며, 실제 요약문과 유사한 요약문장을 얻을 수 있었습니다. :)\n",
    "  \n",
    "**3. Extractive 요약을 시도해 보고 Abstractive 요약 결과와 함께 비교해 보았다.**\n",
    "- 두 요약 결과를 비교해 보았습니다. :)"
   ]
  }
 ],
 "metadata": {
  "kernelspec": {
   "display_name": "aiffel",
   "language": "python",
   "name": "aiffel"
  },
  "language_info": {
   "codemirror_mode": {
    "name": "ipython",
    "version": 3
   },
   "file_extension": ".py",
   "mimetype": "text/x-python",
   "name": "python",
   "nbconvert_exporter": "python",
   "pygments_lexer": "ipython3",
   "version": "3.7.9"
  },
  "toc": {
   "base_numbering": 1,
   "nav_menu": {},
   "number_sections": false,
   "sideBar": true,
   "skip_h1_title": false,
   "title_cell": "Table of Contents",
   "title_sidebar": "Contents",
   "toc_cell": false,
   "toc_position": {
    "height": "calc(100% - 180px)",
    "left": "10px",
    "top": "150px",
    "width": "296.475px"
   },
   "toc_section_display": true,
   "toc_window_display": true
  }
 },
 "nbformat": 4,
 "nbformat_minor": 5
}
